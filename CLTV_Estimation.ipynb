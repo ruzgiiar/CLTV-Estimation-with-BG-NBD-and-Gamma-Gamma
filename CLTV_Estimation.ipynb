{
 "cells": [
  {
   "cell_type": "markdown",
   "id": "a622fe53-b9fd-498e-ab3f-7bf49c0b6a0c",
   "metadata": {},
   "source": [
    "# CLTV Estimation with BG-NBD and Gamma-Gamma (BG-NBD ve Gamma-Gamma ile CLTV Tahmini)"
   ]
  },
  {
   "cell_type": "markdown",
   "id": "0d210171-86fe-4ab7-8076-12b5b02004c1",
   "metadata": {},
   "source": [
    "## Business Problem (İş Problemi)\n",
    "\n",
    "- **A UK-based retail company wants to determine a roadmap for its sales and marketing activities. In order for the company to make medium-long term plans, it is necessary to estimate the potential value that existing customers will provide to the company in the future.**\n",
    "\n",
    "  - *(İngiltere merkezli perakende şirketi satış ve pazarlama faaliyetleri için roadmap belirlemek istemektedir. Şirketin orta uzun vadeli plan yapabilmesi için var olan müşterilerin gelecekte şirkete sağlayacakları potansiyel değerin tahmin edilmesi gerekmektedir.)*"
   ]
  },
  {
   "cell_type": "markdown",
   "id": "e8dabda8-605e-4fed-8ac1-0bd8a0daf651",
   "metadata": {},
   "source": [
    "## Data Set Story (Veri Seti Hikayesi)\n",
    "\n",
    "- **The dataset named \"Online Retail II\" contains online sales transactions of a UK-based retail company between 01/12/2009 and 09/12/2011. The company's product catalog includes gift items, and it is known that most of its customers are wholesalers.**\n",
    "\n",
    "  - (*Online Retail II isimli veri seti İngiltere merkezli bir perakende şirketinin  01/12/2009 - 09/12/2011 tarihleri arasındaki online satış işlemlerini içeriyor. Şirketin ürün kataloğunda hediyelik eşyalar yer almaktadır ve çoğu müşterisinin toptancı olduğu bilgisi mevcuttur.*)"
   ]
  },
  {
   "cell_type": "markdown",
   "id": "c7e3998a-873c-4239-878a-9345e42cba35",
   "metadata": {},
   "source": [
    "- **InvoiceNO** : *If this code starts with C, it means that the transaction has been cancelled* (Eğer bu kod C ile başlıyorsa işlemin iptal edildiğini ifade eder)\n",
    "\n",
    "- **StockCode** : *Unique code for each product* (Her bir ürün için eşşiz kod)\n",
    "\n",
    "- **Description** : *Product Name* (Ürün İsmi)\n",
    "\n",
    "- **Quantity** : *How many of the products on the invoices were sold* (Faturalardaki ürünlerden kaçar tane satıldığı)\n",
    "\n",
    "- **InvoiceDate** : (Fatura Tarihi)\n",
    "\n",
    "- **UnitPrice** : *Invoice price in sterling* (Sterlin Cinsinden Fatura Fiyatı)\n",
    "\n",
    "- **CustomerID** : *Unique Customer Numbers* (Eşsiz müşteri Numaraları)\n",
    "\n",
    "- **Country** : (Ülke)"
   ]
  },
  {
   "cell_type": "markdown",
   "id": "5585e819-07f8-407a-a5b9-118a36f50661",
   "metadata": {},
   "source": [
    "## Project Tasks (Proje Görevleri)"
   ]
  },
  {
   "cell_type": "markdown",
   "id": "90d5c3aa-9e63-48d2-87f2-dbae8a1c801e",
   "metadata": {},
   "source": [
    "### 1. Task (1. Görev): Predicting 6-Month CLTV by Establishing BG-NBD and Gamma-Gamma Models (BG-NBD ve Gamma-Gamma Modellerini Kurarak 6 Aylık CLTV Tahmini Yapılması)\n",
    "\n",
    "---\n",
    "\n",
    "- **Step 1:** *Estimate 6-month CLTV for UK customers using data from 2010-2011*\n",
    "\n",
    "  - (**Adım 1:** *2010-2011 yıllarındaki veriyi kullanarak İngiltere’deki müşteriler için 6 aylık CLTV tahmini yapınız*)\n",
    " \n",
    "---\n",
    "\n",
    "- **Step 2:** *Interpret and evaluate the results you get.*\n",
    "\n",
    "  - (**Adım 2:** *Elde ettiğiniz sonuçları yorumlayıp, değerlendiriniz*)\n",
    " \n",
    "---"
   ]
  },
  {
   "cell_type": "markdown",
   "id": "735a3d36-a0f5-4fba-86fe-6caae1aa33b6",
   "metadata": {},
   "source": [
    "### 2. Task (2. Görev): CLTV Analysis Consisting of Different Time Periods (Farklı Zaman Periyotlarından Oluşan CLTV Analizi)\n",
    "\n",
    "---\n",
    "\n",
    "- **Step 1:** *Calculate 1-month and 12-month CLTV for 2010-2011 UK customers.*\n",
    "\n",
    "  - (**Adım 1:** *2010-2011 UK müşterileri için 1 aylık ve 12 aylık CLTV hesaplayınız.*)\n",
    "\n",
    "---\n",
    "\n",
    "- **Step 2:** *Analyze the 10 people with the highest CLTV in 1 month and the 10 people with the highest CLTV in 12 months.*\n",
    "\n",
    "  - (**Adım 2:** *1 aylık CLTV'de en yüksek olan 10 kişi ile 12 aylık'taki en yüksek 10 kişiyi analiz ediniz*)\n",
    "\n",
    "---"
   ]
  },
  {
   "cell_type": "markdown",
   "id": "8d4d786e-b837-4d6a-8106-d1bbb818ef32",
   "metadata": {},
   "source": [
    "### 3. Task (3. Görev): Segmentation and Action Recommendations (Segmentasyon ve Aksiyon Önerileri)\n",
    "\n",
    "---\n",
    "\n",
    "- **Step 1:** *For 2010-2011 UK customers, divide all your customers into 4 groups (segments) according to 6-month CLTV and add the group names to the data set.*\n",
    "\n",
    "  - (**Adım 1:** *2010-2011 UK müşterileri için 6 aylık CLTV'ye göre tüm müşterilerinizi 4 gruba (segmente) ayırınız ve grup isimlerini veri setine  ekleyiniz.*)\n",
    " \n",
    "---\n",
    "\n",
    "- **Step 2:** *Make brief 6-month action suggestions to the management for 2 groups you choose among 4 groups.*\n",
    "\n",
    "  - (**Adım 2:** *4 grup içerisinden seçeceğiniz 2 grup için yönetime kısa kısa 6 aylık aksiyon önerilerinde bulununuz.*)\n",
    " \n",
    "---"
   ]
  },
  {
   "cell_type": "markdown",
   "id": "f57a7183-1b69-4646-87ed-72eba00badba",
   "metadata": {},
   "source": [
    "## Solution (Çözüm)"
   ]
  },
  {
   "cell_type": "markdown",
   "id": "d9ddc4fc-cf06-46a3-90b4-b73dc0f4b48f",
   "metadata": {},
   "source": [
    "#### Required Libraries and Functions (Gerekli Kütüphaneler ve Fonksiyonlar)"
   ]
  },
  {
   "cell_type": "code",
   "execution_count": 1,
   "id": "02083dcb-0ca2-40d2-a86a-4ccf921de490",
   "metadata": {},
   "outputs": [],
   "source": [
    "import pandas as pd\n",
    "import datetime as dt\n",
    "import matplotlib.pyplot as plt\n",
    "import seaborn as sns\n",
    "from lifetimes import BetaGeoFitter\n",
    "from lifetimes import GammaGammaFitter\n",
    "from lifetimes.plotting import plot_period_transactions"
   ]
  },
  {
   "cell_type": "code",
   "execution_count": 2,
   "id": "8552fd6d-fe8f-4d2a-9a80-568ed6bc101e",
   "metadata": {},
   "outputs": [],
   "source": [
    "pd.set_option('display.max_columns', None)\n",
    "# pd.set_option('display.max_row', None)\n",
    "pd.set_option('display.width', 500)\n",
    "pd.set_option('display.float_format', lambda x: '%.3f' % x)"
   ]
  },
  {
   "cell_type": "code",
   "execution_count": 3,
   "id": "d2bab291-2c91-4dfb-9ec8-044764208d67",
   "metadata": {},
   "outputs": [],
   "source": [
    "def outlier_thresholds(dataframe, variable, q1=0.25, q3=0.75):\n",
    "    quartile1 = dataframe[variable].quantile(q1)\n",
    "    quartile3 = dataframe[variable].quantile(q3)\n",
    "    interquantile_range = quartile3 - quartile1\n",
    "    up_limit = quartile3 + 1.5 * interquantile_range\n",
    "    low_limit = quartile1 - 1.5 * interquantile_range\n",
    "    return up_limit, low_limit"
   ]
  },
  {
   "cell_type": "code",
   "execution_count": 4,
   "id": "0b1d7044-723c-4356-9fbe-e33e65a42b20",
   "metadata": {},
   "outputs": [],
   "source": [
    "def count_outliers(dataframe, variable, q1=0.25, q3=0.75):\n",
    "    up_limit, low_limit = outlier_thresholds(dataframe, variable, q1, q3)\n",
    "    outliers = dataframe[(dataframe[variable] < low_limit) | (dataframe[variable] > up_limit)]\n",
    "    return outliers.shape[0]"
   ]
  },
  {
   "cell_type": "code",
   "execution_count": 5,
   "id": "a4e1e1f6-ea0f-4fd2-8ec7-59204af604e2",
   "metadata": {},
   "outputs": [],
   "source": [
    "def replace_with_thresholds(dataframe, variable, q1=0.25, q3=0.75):\n",
    "    up_limit, low_limit = outlier_thresholds(dataframe, variable, q1, q3)\n",
    "    dataframe.loc[(dataframe[variable] < low_limit), variable] = low_limit\n",
    "    dataframe.loc[(dataframe[variable] > up_limit), variable] = up_limit"
   ]
  },
  {
   "cell_type": "markdown",
   "id": "a9ff65cb-d279-4299-9c17-382a73fa1ac6",
   "metadata": {},
   "source": [
    "#### Reading Data (Veri Okuma)"
   ]
  },
  {
   "cell_type": "code",
   "execution_count": 6,
   "id": "87f67293-5377-4e71-9ba2-1cb033b58560",
   "metadata": {},
   "outputs": [],
   "source": [
    "df_ = pd.read_excel(\"C:\\\\Users\\\\Ruzgiiiar\\\\Desktop\\\\Miuul Makine Ogrenimi\\\\Miuul CRM - RFM\\\\CLTV Prediction\\\\Çalışma\\\\CLTV_Prediction\\\\online_retail_II.xlsx\",\n",
    "                    sheet_name='Year 2010-2011')"
   ]
  },
  {
   "cell_type": "code",
   "execution_count": 7,
   "id": "744b0afa-60e1-4a23-a841-32cd5c60dddf",
   "metadata": {},
   "outputs": [],
   "source": [
    "df = df_.copy()"
   ]
  },
  {
   "cell_type": "code",
   "execution_count": 8,
   "id": "35075d4c-8941-4807-9634-07e481b3088f",
   "metadata": {},
   "outputs": [
    {
     "data": {
      "text/html": [
       "<div>\n",
       "<style scoped>\n",
       "    .dataframe tbody tr th:only-of-type {\n",
       "        vertical-align: middle;\n",
       "    }\n",
       "\n",
       "    .dataframe tbody tr th {\n",
       "        vertical-align: top;\n",
       "    }\n",
       "\n",
       "    .dataframe thead th {\n",
       "        text-align: right;\n",
       "    }\n",
       "</style>\n",
       "<table border=\"1\" class=\"dataframe\">\n",
       "  <thead>\n",
       "    <tr style=\"text-align: right;\">\n",
       "      <th></th>\n",
       "      <th>Invoice</th>\n",
       "      <th>StockCode</th>\n",
       "      <th>Description</th>\n",
       "      <th>Quantity</th>\n",
       "      <th>InvoiceDate</th>\n",
       "      <th>Price</th>\n",
       "      <th>Customer ID</th>\n",
       "      <th>Country</th>\n",
       "    </tr>\n",
       "  </thead>\n",
       "  <tbody>\n",
       "    <tr>\n",
       "      <th>0</th>\n",
       "      <td>536365</td>\n",
       "      <td>85123A</td>\n",
       "      <td>WHITE HANGING HEART T-LIGHT HOLDER</td>\n",
       "      <td>6</td>\n",
       "      <td>2010-12-01 08:26:00</td>\n",
       "      <td>2.550</td>\n",
       "      <td>17850.000</td>\n",
       "      <td>United Kingdom</td>\n",
       "    </tr>\n",
       "    <tr>\n",
       "      <th>1</th>\n",
       "      <td>536365</td>\n",
       "      <td>71053</td>\n",
       "      <td>WHITE METAL LANTERN</td>\n",
       "      <td>6</td>\n",
       "      <td>2010-12-01 08:26:00</td>\n",
       "      <td>3.390</td>\n",
       "      <td>17850.000</td>\n",
       "      <td>United Kingdom</td>\n",
       "    </tr>\n",
       "    <tr>\n",
       "      <th>2</th>\n",
       "      <td>536365</td>\n",
       "      <td>84406B</td>\n",
       "      <td>CREAM CUPID HEARTS COAT HANGER</td>\n",
       "      <td>8</td>\n",
       "      <td>2010-12-01 08:26:00</td>\n",
       "      <td>2.750</td>\n",
       "      <td>17850.000</td>\n",
       "      <td>United Kingdom</td>\n",
       "    </tr>\n",
       "    <tr>\n",
       "      <th>3</th>\n",
       "      <td>536365</td>\n",
       "      <td>84029G</td>\n",
       "      <td>KNITTED UNION FLAG HOT WATER BOTTLE</td>\n",
       "      <td>6</td>\n",
       "      <td>2010-12-01 08:26:00</td>\n",
       "      <td>3.390</td>\n",
       "      <td>17850.000</td>\n",
       "      <td>United Kingdom</td>\n",
       "    </tr>\n",
       "    <tr>\n",
       "      <th>4</th>\n",
       "      <td>536365</td>\n",
       "      <td>84029E</td>\n",
       "      <td>RED WOOLLY HOTTIE WHITE HEART.</td>\n",
       "      <td>6</td>\n",
       "      <td>2010-12-01 08:26:00</td>\n",
       "      <td>3.390</td>\n",
       "      <td>17850.000</td>\n",
       "      <td>United Kingdom</td>\n",
       "    </tr>\n",
       "  </tbody>\n",
       "</table>\n",
       "</div>"
      ],
      "text/plain": [
       "  Invoice StockCode                          Description  Quantity         InvoiceDate  Price  Customer ID         Country\n",
       "0  536365    85123A   WHITE HANGING HEART T-LIGHT HOLDER         6 2010-12-01 08:26:00  2.550    17850.000  United Kingdom\n",
       "1  536365     71053                  WHITE METAL LANTERN         6 2010-12-01 08:26:00  3.390    17850.000  United Kingdom\n",
       "2  536365    84406B       CREAM CUPID HEARTS COAT HANGER         8 2010-12-01 08:26:00  2.750    17850.000  United Kingdom\n",
       "3  536365    84029G  KNITTED UNION FLAG HOT WATER BOTTLE         6 2010-12-01 08:26:00  3.390    17850.000  United Kingdom\n",
       "4  536365    84029E       RED WOOLLY HOTTIE WHITE HEART.         6 2010-12-01 08:26:00  3.390    17850.000  United Kingdom"
      ]
     },
     "execution_count": 8,
     "metadata": {},
     "output_type": "execute_result"
    }
   ],
   "source": [
    "df.head()"
   ]
  },
  {
   "cell_type": "code",
   "execution_count": 9,
   "id": "b15af946-c918-4706-b6b5-a2d9a6f69b6e",
   "metadata": {},
   "outputs": [],
   "source": [
    "def check_df(dataframe, head=5):\n",
    "    print('################# shape #################')\n",
    "    print(dataframe.shape)\n",
    "    print('################# head ##################')\n",
    "    print(dataframe.head())\n",
    "    print('################# tail #################')\n",
    "    print(dataframe.tail())\n",
    "    print('################# dtypes #################')\n",
    "    print(dataframe.info())\n",
    "    print('################# NA #################')\n",
    "    print(dataframe.isnull().sum())\n",
    "    print('################# describe #################')\n",
    "    numeric_col = dataframe[[col for col in dataframe.columns if df[col].dtypes in ['int64', 'float64']]]\n",
    "    print(numeric_col.describe().T)\n",
    "    print('################# Quantile #################')\n",
    "    print(numeric_col.quantile([0.05, 0.1, 0.3, 0.5, 0.6, 0.7, 0.8, 0.9, 0.95, 0.99]).T)"
   ]
  },
  {
   "cell_type": "code",
   "execution_count": 10,
   "id": "4e7bae1f-12b5-4e9a-8551-c47dd255b9cc",
   "metadata": {},
   "outputs": [
    {
     "name": "stdout",
     "output_type": "stream",
     "text": [
      "################# shape #################\n",
      "(541910, 8)\n",
      "################# head ##################\n",
      "  Invoice StockCode                          Description  Quantity         InvoiceDate  Price  Customer ID         Country\n",
      "0  536365    85123A   WHITE HANGING HEART T-LIGHT HOLDER         6 2010-12-01 08:26:00  2.550    17850.000  United Kingdom\n",
      "1  536365     71053                  WHITE METAL LANTERN         6 2010-12-01 08:26:00  3.390    17850.000  United Kingdom\n",
      "2  536365    84406B       CREAM CUPID HEARTS COAT HANGER         8 2010-12-01 08:26:00  2.750    17850.000  United Kingdom\n",
      "3  536365    84029G  KNITTED UNION FLAG HOT WATER BOTTLE         6 2010-12-01 08:26:00  3.390    17850.000  United Kingdom\n",
      "4  536365    84029E       RED WOOLLY HOTTIE WHITE HEART.         6 2010-12-01 08:26:00  3.390    17850.000  United Kingdom\n",
      "################# tail #################\n",
      "       Invoice StockCode                      Description  Quantity         InvoiceDate  Price  Customer ID Country\n",
      "541905  581587     22899     CHILDREN'S APRON DOLLY GIRL          6 2011-12-09 12:50:00  2.100    12680.000  France\n",
      "541906  581587     23254    CHILDRENS CUTLERY DOLLY GIRL          4 2011-12-09 12:50:00  4.150    12680.000  France\n",
      "541907  581587     23255  CHILDRENS CUTLERY CIRCUS PARADE         4 2011-12-09 12:50:00  4.150    12680.000  France\n",
      "541908  581587     22138    BAKING SET 9 PIECE RETROSPOT          3 2011-12-09 12:50:00  4.950    12680.000  France\n",
      "541909  581587      POST                          POSTAGE         1 2011-12-09 12:50:00 18.000    12680.000  France\n",
      "################# dtypes #################\n",
      "<class 'pandas.core.frame.DataFrame'>\n",
      "RangeIndex: 541910 entries, 0 to 541909\n",
      "Data columns (total 8 columns):\n",
      " #   Column       Non-Null Count   Dtype         \n",
      "---  ------       --------------   -----         \n",
      " 0   Invoice      541910 non-null  object        \n",
      " 1   StockCode    541910 non-null  object        \n",
      " 2   Description  540456 non-null  object        \n",
      " 3   Quantity     541910 non-null  int64         \n",
      " 4   InvoiceDate  541910 non-null  datetime64[ns]\n",
      " 5   Price        541910 non-null  float64       \n",
      " 6   Customer ID  406830 non-null  float64       \n",
      " 7   Country      541910 non-null  object        \n",
      "dtypes: datetime64[ns](1), float64(2), int64(1), object(4)\n",
      "memory usage: 33.1+ MB\n",
      "None\n",
      "################# NA #################\n",
      "Invoice             0\n",
      "StockCode           0\n",
      "Description      1454\n",
      "Quantity            0\n",
      "InvoiceDate         0\n",
      "Price               0\n",
      "Customer ID    135080\n",
      "Country             0\n",
      "dtype: int64\n",
      "################# describe #################\n",
      "                 count      mean      std        min       25%       50%       75%       max\n",
      "Quantity    541910.000     9.552  218.081 -80995.000     1.000     3.000    10.000 80995.000\n",
      "Price       541910.000     4.611   96.760 -11062.060     1.250     2.080     4.130 38970.000\n",
      "Customer ID 406830.000 15287.684 1713.603  12346.000 13953.000 15152.000 16791.000 18287.000\n",
      "################# Quantile #################\n",
      "                0.050     0.100     0.300     0.500     0.600     0.700     0.800     0.900     0.950     0.990\n",
      "Quantity        1.000     1.000     2.000     3.000     5.000     8.000    12.000    24.000    29.000   100.000\n",
      "Price           0.420     0.630     1.250     2.080     2.550     3.750     4.950     7.950     9.950    18.000\n",
      "Customer ID 12626.000 12876.000 14159.000 15152.000 15805.000 16493.000 17095.000 17719.000 17905.000 18212.000\n"
     ]
    }
   ],
   "source": [
    "check_df(df)"
   ]
  },
  {
   "cell_type": "markdown",
   "id": "98c9c48e-5f53-4162-a1a6-707e9de6b322",
   "metadata": {},
   "source": [
    "#### Data Pre-Processing (Veri ön işleme)"
   ]
  },
  {
   "cell_type": "code",
   "execution_count": 11,
   "id": "8f687253-2592-4998-98eb-9c7cc1e908e0",
   "metadata": {},
   "outputs": [],
   "source": [
    "df.dropna(inplace=True)"
   ]
  },
  {
   "cell_type": "code",
   "execution_count": 12,
   "id": "eb71f617-a1db-4583-88b6-738eb2c6a446",
   "metadata": {},
   "outputs": [],
   "source": [
    "df = df[~df['Invoice'].str.contains('C', na=False)]"
   ]
  },
  {
   "cell_type": "code",
   "execution_count": 13,
   "id": "e7eaa0d7-403f-4681-8e11-7d973ddd2292",
   "metadata": {},
   "outputs": [],
   "source": [
    "df = df[df['Quantity'] > 0]"
   ]
  },
  {
   "cell_type": "code",
   "execution_count": 14,
   "id": "bad46d99-d144-4520-a491-7bd8a8831d8e",
   "metadata": {},
   "outputs": [],
   "source": [
    "df = df[df['Price'] > 0]"
   ]
  },
  {
   "cell_type": "code",
   "execution_count": 15,
   "id": "f425c772-aebc-4fab-b339-877c4b36e901",
   "metadata": {},
   "outputs": [],
   "source": [
    "num_cols = ['Price', 'Quantity']"
   ]
  },
  {
   "cell_type": "code",
   "execution_count": 16,
   "id": "22554676-f031-4565-a13e-a172fd63cfc9",
   "metadata": {},
   "outputs": [
    {
     "data": {
      "image/png": "[encoded data removed]",
      "text/plain": [
       "<Figure size 640x480 with 1 Axes>"
      ]
     },
     "metadata": {},
     "output_type": "display_data"
    },
    {
     "data": {
      "image/png": "[encoded data removed]",
      "text/plain": [
       "<Figure size 640x480 with 1 Axes>"
      ]
     },
     "metadata": {},
     "output_type": "display_data"
    }
   ],
   "source": [
    "for col in num_cols:\n",
    "    plt.title(col)\n",
    "    sns.boxplot(df[col])\n",
    "    plt.show()"
   ]
  },
  {
   "cell_type": "code",
   "execution_count": 17,
   "id": "7e1f0466-ac9e-4413-a135-39be90462315",
   "metadata": {},
   "outputs": [
    {
     "data": {
      "text/plain": [
       "(397885, 8)"
      ]
     },
     "execution_count": 17,
     "metadata": {},
     "output_type": "execute_result"
    }
   ],
   "source": [
    "df.shape"
   ]
  },
  {
   "cell_type": "code",
   "execution_count": 18,
   "id": "f624ae89-de26-4f2b-91f0-b942fe0a0931",
   "metadata": {},
   "outputs": [
    {
     "name": "stdout",
     "output_type": "stream",
     "text": [
      "######## Price ########\n",
      "Outliers: 34357\n",
      "Ratio to number of observations: 8.634907071138645\n",
      "---------------------------------------------------------------------\n",
      "######## Quantity ########\n",
      "Outliers: 25647\n",
      "Ratio to number of observations: 6.445832338489764\n",
      "---------------------------------------------------------------------\n"
     ]
    }
   ],
   "source": [
    "# % 75\n",
    "for col in num_cols:\n",
    "    count= count_outliers(df, col)\n",
    "    print('########', col, '########')\n",
    "    print('Outliers:', count)\n",
    "    print('Ratio to number of observations:', (count / df.shape[0] * 100))\n",
    "    print('---------------------------------------------------------------------')"
   ]
  },
  {
   "cell_type": "code",
   "execution_count": 19,
   "id": "4bd94272-b233-44b0-bd5e-5fbf8bd945a9",
   "metadata": {},
   "outputs": [
    {
     "name": "stdout",
     "output_type": "stream",
     "text": [
      "######## Price ########\n",
      "Outliers: 3500\n",
      "Ratio to number of observations: 0.8796511554846249\n",
      "---------------------------------------------------------------------\n",
      "######## Quantity ########\n",
      "Outliers: 11529\n",
      "Ratio to number of observations: 2.8975709061663544\n",
      "---------------------------------------------------------------------\n"
     ]
    }
   ],
   "source": [
    "# % 90\n",
    "for col in num_cols:\n",
    "    count= count_outliers(df, col, q1=0.1, q3=0.9)\n",
    "    print('########', col, '########')\n",
    "    print('Outliers:', count)\n",
    "    print('Ratio to number of observations:', (count / df.shape[0] * 100))\n",
    "    print('---------------------------------------------------------------------')"
   ]
  },
  {
   "cell_type": "code",
   "execution_count": 20,
   "id": "a4ba9aaa-3b36-410e-8e12-671bd98075b9",
   "metadata": {},
   "outputs": [
    {
     "name": "stdout",
     "output_type": "stream",
     "text": [
      "######## Price ########\n",
      "Outliers: 661\n",
      "Ratio to number of observations: 0.1661284039358106\n",
      "---------------------------------------------------------------------\n",
      "######## Quantity ########\n",
      "Outliers: 962\n",
      "Ratio to number of observations: 0.24177840330748837\n",
      "---------------------------------------------------------------------\n"
     ]
    }
   ],
   "source": [
    "# % 99\n",
    "for col in num_cols:\n",
    "    count= count_outliers(df, col, q1=0.01, q3=0.99)\n",
    "    print('########', col, '########')\n",
    "    print('Outliers:', count)\n",
    "    print('Ratio to number of observations:', (count / df.shape[0] * 100))\n",
    "    print('---------------------------------------------------------------------')"
   ]
  },
  {
   "cell_type": "code",
   "execution_count": 21,
   "id": "946f4cfa-0050-493b-b8a8-cee53a37001e",
   "metadata": {},
   "outputs": [],
   "source": [
    "for col in num_cols:\n",
    "    replace_with_thresholds(df, col, q1=0.01, q3=0.99)"
   ]
  },
  {
   "cell_type": "code",
   "execution_count": 22,
   "id": "1a15062f-1575-4705-9882-fc9928fedce8",
   "metadata": {},
   "outputs": [
    {
     "data": {
      "image/png": "[encoded data removed]",
      "text/plain": [
       "<Figure size 640x480 with 1 Axes>"
      ]
     },
     "metadata": {},
     "output_type": "display_data"
    },
    {
     "data": {
      "image/png": "[encoded data removed]",
      "text/plain": [
       "<Figure size 640x480 with 1 Axes>"
      ]
     },
     "metadata": {},
     "output_type": "display_data"
    }
   ],
   "source": [
    "for col in num_cols:\n",
    "    plt.title(col)\n",
    "    sns.boxplot(df[col])\n",
    "    plt.show()"
   ]
  },
  {
   "cell_type": "code",
   "execution_count": 23,
   "id": "bab5ea0d-c7ff-47f6-b036-d445dc60fa72",
   "metadata": {},
   "outputs": [],
   "source": [
    "df['TotalPrice'] = df['Quantity'] * df['Price']"
   ]
  },
  {
   "cell_type": "code",
   "execution_count": 24,
   "id": "bbc76ae4-62bc-4876-a216-791373686720",
   "metadata": {},
   "outputs": [
    {
     "data": {
      "text/plain": [
       "Timestamp('2011-12-09 12:50:00')"
      ]
     },
     "execution_count": 24,
     "metadata": {},
     "output_type": "execute_result"
    }
   ],
   "source": [
    "df['InvoiceDate'].max()"
   ]
  },
  {
   "cell_type": "code",
   "execution_count": 25,
   "id": "7673623e-b11a-41ed-b995-5892c75cafc7",
   "metadata": {},
   "outputs": [],
   "source": [
    "today_date = dt.datetime(2011, 12, 11)"
   ]
  },
  {
   "cell_type": "markdown",
   "id": "cbedbc21-d552-41f3-8412-717ac1b2e686",
   "metadata": {},
   "source": [
    "#### Preparation of Lifetime data structure (Lifetime Veri Yapısının Hazırlanması)"
   ]
  },
  {
   "cell_type": "markdown",
   "id": "6988c302-1419-41df-98d3-de4ca2ec64fe",
   "metadata": {},
   "source": [
    "- **recency:** Time since last purchase. (Weekly and user specific)\n",
    "\n",
    "  - (Son satın alma üzerinden geçen zaman. ((Son satin alma - ilk satin alma)Haftalık olarak ve kullanıcı özelinde))\n",
    "---\n",
    "- **T:** The customer's age in weeks. How long before the date of analysis was the first purchase made?\n",
    "\n",
    "  - (Haftalık cinsinden müşterinin yaşı. Analiz tarihinden ne kadar süre önce ilk satın alma yapılmış ?)\n",
    "---\n",
    "- **frequency:** Total number of recurring purchases\n",
    "\n",
    "  - (Tekrar eden toplam satın alma sayısı.)\n",
    "---\n",
    "- **monetary:** Average earnings per purchase\n",
    "\n",
    "  - (Satın alma başına ortalama kazanç.)"
   ]
  },
  {
   "cell_type": "code",
   "execution_count": 26,
   "id": "8f4d2ff5-7253-4e70-82f4-8e6eea15bbb5",
   "metadata": {},
   "outputs": [],
   "source": [
    "cltv_df = df.groupby('Customer ID').agg(\n",
    "    {'InvoiceDate': [lambda x: (x.max() - x.min()).days, # recency\n",
    "                     lambda x: (today_date - x.min()).days], # T\n",
    "     'Invoice': lambda x: x.nunique(), # frequency\n",
    "     'TotalPrice': lambda x: x.sum()}) # monetary"
   ]
  },
  {
   "cell_type": "code",
   "execution_count": 27,
   "id": "1e21bc53-091c-4286-89e3-d99dd580e209",
   "metadata": {},
   "outputs": [
    {
     "data": {
      "text/html": [
       "<div>\n",
       "<style scoped>\n",
       "    .dataframe tbody tr th:only-of-type {\n",
       "        vertical-align: middle;\n",
       "    }\n",
       "\n",
       "    .dataframe tbody tr th {\n",
       "        vertical-align: top;\n",
       "    }\n",
       "\n",
       "    .dataframe thead tr th {\n",
       "        text-align: left;\n",
       "    }\n",
       "\n",
       "    .dataframe thead tr:last-of-type th {\n",
       "        text-align: right;\n",
       "    }\n",
       "</style>\n",
       "<table border=\"1\" class=\"dataframe\">\n",
       "  <thead>\n",
       "    <tr>\n",
       "      <th></th>\n",
       "      <th colspan=\"2\" halign=\"left\">InvoiceDate</th>\n",
       "      <th>Invoice</th>\n",
       "      <th>TotalPrice</th>\n",
       "    </tr>\n",
       "    <tr>\n",
       "      <th></th>\n",
       "      <th>&lt;lambda_0&gt;</th>\n",
       "      <th>&lt;lambda_1&gt;</th>\n",
       "      <th>&lt;lambda&gt;</th>\n",
       "      <th>&lt;lambda&gt;</th>\n",
       "    </tr>\n",
       "    <tr>\n",
       "      <th>Customer ID</th>\n",
       "      <th></th>\n",
       "      <th></th>\n",
       "      <th></th>\n",
       "      <th></th>\n",
       "    </tr>\n",
       "  </thead>\n",
       "  <tbody>\n",
       "    <tr>\n",
       "      <th>12346.000</th>\n",
       "      <td>0</td>\n",
       "      <td>326</td>\n",
       "      <td>1</td>\n",
       "      <td>310.440</td>\n",
       "    </tr>\n",
       "    <tr>\n",
       "      <th>12347.000</th>\n",
       "      <td>365</td>\n",
       "      <td>368</td>\n",
       "      <td>7</td>\n",
       "      <td>4310.000</td>\n",
       "    </tr>\n",
       "    <tr>\n",
       "      <th>12348.000</th>\n",
       "      <td>282</td>\n",
       "      <td>359</td>\n",
       "      <td>4</td>\n",
       "      <td>1770.780</td>\n",
       "    </tr>\n",
       "    <tr>\n",
       "      <th>12349.000</th>\n",
       "      <td>0</td>\n",
       "      <td>19</td>\n",
       "      <td>1</td>\n",
       "      <td>1491.720</td>\n",
       "    </tr>\n",
       "    <tr>\n",
       "      <th>12350.000</th>\n",
       "      <td>0</td>\n",
       "      <td>311</td>\n",
       "      <td>1</td>\n",
       "      <td>331.460</td>\n",
       "    </tr>\n",
       "    <tr>\n",
       "      <th>...</th>\n",
       "      <td>...</td>\n",
       "      <td>...</td>\n",
       "      <td>...</td>\n",
       "      <td>...</td>\n",
       "    </tr>\n",
       "    <tr>\n",
       "      <th>18280.000</th>\n",
       "      <td>0</td>\n",
       "      <td>278</td>\n",
       "      <td>1</td>\n",
       "      <td>180.600</td>\n",
       "    </tr>\n",
       "    <tr>\n",
       "      <th>18281.000</th>\n",
       "      <td>0</td>\n",
       "      <td>181</td>\n",
       "      <td>1</td>\n",
       "      <td>80.820</td>\n",
       "    </tr>\n",
       "    <tr>\n",
       "      <th>18282.000</th>\n",
       "      <td>118</td>\n",
       "      <td>127</td>\n",
       "      <td>2</td>\n",
       "      <td>178.050</td>\n",
       "    </tr>\n",
       "    <tr>\n",
       "      <th>18283.000</th>\n",
       "      <td>333</td>\n",
       "      <td>338</td>\n",
       "      <td>16</td>\n",
       "      <td>2094.880</td>\n",
       "    </tr>\n",
       "    <tr>\n",
       "      <th>18287.000</th>\n",
       "      <td>158</td>\n",
       "      <td>202</td>\n",
       "      <td>3</td>\n",
       "      <td>1837.280</td>\n",
       "    </tr>\n",
       "  </tbody>\n",
       "</table>\n",
       "<p>4338 rows × 4 columns</p>\n",
       "</div>"
      ],
      "text/plain": [
       "            InvoiceDate             Invoice TotalPrice\n",
       "             <lambda_0> <lambda_1> <lambda>   <lambda>\n",
       "Customer ID                                           \n",
       "12346.000             0        326        1    310.440\n",
       "12347.000           365        368        7   4310.000\n",
       "12348.000           282        359        4   1770.780\n",
       "12349.000             0         19        1   1491.720\n",
       "12350.000             0        311        1    331.460\n",
       "...                 ...        ...      ...        ...\n",
       "18280.000             0        278        1    180.600\n",
       "18281.000             0        181        1     80.820\n",
       "18282.000           118        127        2    178.050\n",
       "18283.000           333        338       16   2094.880\n",
       "18287.000           158        202        3   1837.280\n",
       "\n",
       "[4338 rows x 4 columns]"
      ]
     },
     "execution_count": 27,
     "metadata": {},
     "output_type": "execute_result"
    }
   ],
   "source": [
    "cltv_df"
   ]
  },
  {
   "cell_type": "code",
   "execution_count": 28,
   "id": "3cd33df2-2c53-4e12-be31-ca7337b6c6da",
   "metadata": {},
   "outputs": [],
   "source": [
    "cltv_df.columns = cltv_df.columns.droplevel(0)"
   ]
  },
  {
   "cell_type": "code",
   "execution_count": 29,
   "id": "5b478eeb-7979-4a88-b80a-f4546b0e85ab",
   "metadata": {},
   "outputs": [],
   "source": [
    "cltv_df.columns = ['recency', 'T', 'frequency', 'monetary']"
   ]
  },
  {
   "cell_type": "code",
   "execution_count": 30,
   "id": "f75d9f95-286b-4406-b9c7-8ef8082b42a4",
   "metadata": {},
   "outputs": [
    {
     "data": {
      "text/html": [
       "<div>\n",
       "<style scoped>\n",
       "    .dataframe tbody tr th:only-of-type {\n",
       "        vertical-align: middle;\n",
       "    }\n",
       "\n",
       "    .dataframe tbody tr th {\n",
       "        vertical-align: top;\n",
       "    }\n",
       "\n",
       "    .dataframe thead th {\n",
       "        text-align: right;\n",
       "    }\n",
       "</style>\n",
       "<table border=\"1\" class=\"dataframe\">\n",
       "  <thead>\n",
       "    <tr style=\"text-align: right;\">\n",
       "      <th></th>\n",
       "      <th>recency</th>\n",
       "      <th>T</th>\n",
       "      <th>frequency</th>\n",
       "      <th>monetary</th>\n",
       "    </tr>\n",
       "    <tr>\n",
       "      <th>Customer ID</th>\n",
       "      <th></th>\n",
       "      <th></th>\n",
       "      <th></th>\n",
       "      <th></th>\n",
       "    </tr>\n",
       "  </thead>\n",
       "  <tbody>\n",
       "    <tr>\n",
       "      <th>12346.000</th>\n",
       "      <td>0</td>\n",
       "      <td>326</td>\n",
       "      <td>1</td>\n",
       "      <td>310.440</td>\n",
       "    </tr>\n",
       "    <tr>\n",
       "      <th>12347.000</th>\n",
       "      <td>365</td>\n",
       "      <td>368</td>\n",
       "      <td>7</td>\n",
       "      <td>4310.000</td>\n",
       "    </tr>\n",
       "    <tr>\n",
       "      <th>12348.000</th>\n",
       "      <td>282</td>\n",
       "      <td>359</td>\n",
       "      <td>4</td>\n",
       "      <td>1770.780</td>\n",
       "    </tr>\n",
       "    <tr>\n",
       "      <th>12349.000</th>\n",
       "      <td>0</td>\n",
       "      <td>19</td>\n",
       "      <td>1</td>\n",
       "      <td>1491.720</td>\n",
       "    </tr>\n",
       "    <tr>\n",
       "      <th>12350.000</th>\n",
       "      <td>0</td>\n",
       "      <td>311</td>\n",
       "      <td>1</td>\n",
       "      <td>331.460</td>\n",
       "    </tr>\n",
       "  </tbody>\n",
       "</table>\n",
       "</div>"
      ],
      "text/plain": [
       "             recency    T  frequency  monetary\n",
       "Customer ID                                   \n",
       "12346.000          0  326          1   310.440\n",
       "12347.000        365  368          7  4310.000\n",
       "12348.000        282  359          4  1770.780\n",
       "12349.000          0   19          1  1491.720\n",
       "12350.000          0  311          1   331.460"
      ]
     },
     "execution_count": 30,
     "metadata": {},
     "output_type": "execute_result"
    }
   ],
   "source": [
    "cltv_df.head()"
   ]
  },
  {
   "cell_type": "code",
   "execution_count": 31,
   "id": "e244c9c3-7f4c-4cc7-94b5-0a19144d7f53",
   "metadata": {},
   "outputs": [],
   "source": [
    "cltv_df['monetary'] = cltv_df['monetary'] / cltv_df['frequency']"
   ]
  },
  {
   "cell_type": "code",
   "execution_count": 32,
   "id": "4475cc92-7a5a-48c9-bcea-8b4b8845b2d3",
   "metadata": {},
   "outputs": [],
   "source": [
    "cltv_df['recency'] = cltv_df['recency'] / 7"
   ]
  },
  {
   "cell_type": "code",
   "execution_count": 33,
   "id": "5c46906f-71d9-4273-9125-a2f72a3fc2ec",
   "metadata": {},
   "outputs": [],
   "source": [
    "cltv_df['T'] = cltv_df['T'] / 7"
   ]
  },
  {
   "cell_type": "code",
   "execution_count": 34,
   "id": "588aa779-8133-42c0-97a4-cf64d3fc7798",
   "metadata": {},
   "outputs": [],
   "source": [
    "cltv_df = cltv_df[(cltv_df['frequency'] > 1)]"
   ]
  },
  {
   "cell_type": "code",
   "execution_count": 35,
   "id": "0114efe8-64c6-4d18-9411-4690a8d2c169",
   "metadata": {},
   "outputs": [
    {
     "data": {
      "text/html": [
       "<div>\n",
       "<style scoped>\n",
       "    .dataframe tbody tr th:only-of-type {\n",
       "        vertical-align: middle;\n",
       "    }\n",
       "\n",
       "    .dataframe tbody tr th {\n",
       "        vertical-align: top;\n",
       "    }\n",
       "\n",
       "    .dataframe thead th {\n",
       "        text-align: right;\n",
       "    }\n",
       "</style>\n",
       "<table border=\"1\" class=\"dataframe\">\n",
       "  <thead>\n",
       "    <tr style=\"text-align: right;\">\n",
       "      <th></th>\n",
       "      <th>recency</th>\n",
       "      <th>T</th>\n",
       "      <th>frequency</th>\n",
       "      <th>monetary</th>\n",
       "    </tr>\n",
       "    <tr>\n",
       "      <th>Customer ID</th>\n",
       "      <th></th>\n",
       "      <th></th>\n",
       "      <th></th>\n",
       "      <th></th>\n",
       "    </tr>\n",
       "  </thead>\n",
       "  <tbody>\n",
       "    <tr>\n",
       "      <th>12347.000</th>\n",
       "      <td>52.143</td>\n",
       "      <td>52.571</td>\n",
       "      <td>7</td>\n",
       "      <td>615.714</td>\n",
       "    </tr>\n",
       "    <tr>\n",
       "      <th>12348.000</th>\n",
       "      <td>40.286</td>\n",
       "      <td>51.286</td>\n",
       "      <td>4</td>\n",
       "      <td>442.695</td>\n",
       "    </tr>\n",
       "    <tr>\n",
       "      <th>12352.000</th>\n",
       "      <td>37.143</td>\n",
       "      <td>42.429</td>\n",
       "      <td>8</td>\n",
       "      <td>219.543</td>\n",
       "    </tr>\n",
       "    <tr>\n",
       "      <th>12356.000</th>\n",
       "      <td>43.143</td>\n",
       "      <td>46.571</td>\n",
       "      <td>3</td>\n",
       "      <td>937.143</td>\n",
       "    </tr>\n",
       "    <tr>\n",
       "      <th>12358.000</th>\n",
       "      <td>21.286</td>\n",
       "      <td>21.571</td>\n",
       "      <td>2</td>\n",
       "      <td>575.210</td>\n",
       "    </tr>\n",
       "    <tr>\n",
       "      <th>...</th>\n",
       "      <td>...</td>\n",
       "      <td>...</td>\n",
       "      <td>...</td>\n",
       "      <td>...</td>\n",
       "    </tr>\n",
       "    <tr>\n",
       "      <th>18272.000</th>\n",
       "      <td>34.857</td>\n",
       "      <td>35.286</td>\n",
       "      <td>6</td>\n",
       "      <td>513.097</td>\n",
       "    </tr>\n",
       "    <tr>\n",
       "      <th>18273.000</th>\n",
       "      <td>36.429</td>\n",
       "      <td>36.857</td>\n",
       "      <td>3</td>\n",
       "      <td>68.000</td>\n",
       "    </tr>\n",
       "    <tr>\n",
       "      <th>18282.000</th>\n",
       "      <td>16.857</td>\n",
       "      <td>18.143</td>\n",
       "      <td>2</td>\n",
       "      <td>89.025</td>\n",
       "    </tr>\n",
       "    <tr>\n",
       "      <th>18283.000</th>\n",
       "      <td>47.571</td>\n",
       "      <td>48.286</td>\n",
       "      <td>16</td>\n",
       "      <td>130.930</td>\n",
       "    </tr>\n",
       "    <tr>\n",
       "      <th>18287.000</th>\n",
       "      <td>22.571</td>\n",
       "      <td>28.857</td>\n",
       "      <td>3</td>\n",
       "      <td>612.427</td>\n",
       "    </tr>\n",
       "  </tbody>\n",
       "</table>\n",
       "<p>2845 rows × 4 columns</p>\n",
       "</div>"
      ],
      "text/plain": [
       "             recency      T  frequency  monetary\n",
       "Customer ID                                     \n",
       "12347.000     52.143 52.571          7   615.714\n",
       "12348.000     40.286 51.286          4   442.695\n",
       "12352.000     37.143 42.429          8   219.543\n",
       "12356.000     43.143 46.571          3   937.143\n",
       "12358.000     21.286 21.571          2   575.210\n",
       "...              ...    ...        ...       ...\n",
       "18272.000     34.857 35.286          6   513.097\n",
       "18273.000     36.429 36.857          3    68.000\n",
       "18282.000     16.857 18.143          2    89.025\n",
       "18283.000     47.571 48.286         16   130.930\n",
       "18287.000     22.571 28.857          3   612.427\n",
       "\n",
       "[2845 rows x 4 columns]"
      ]
     },
     "execution_count": 35,
     "metadata": {},
     "output_type": "execute_result"
    }
   ],
   "source": [
    "cltv_df"
   ]
  },
  {
   "cell_type": "markdown",
   "id": "5eb30543-92c3-4d9f-81aa-7bbc8abe5c77",
   "metadata": {},
   "source": [
    "#### Establishing the BG-NBD Model (BG-NBD Modelinin Kurulması)"
   ]
  },
  {
   "cell_type": "code",
   "execution_count": 36,
   "id": "aabca5e0-5076-4f0d-ad66-31e2d7f593c8",
   "metadata": {},
   "outputs": [],
   "source": [
    "bgf = BetaGeoFitter(penalizer_coef=0.001)"
   ]
  },
  {
   "cell_type": "code",
   "execution_count": 37,
   "id": "b92dc6bc-aa9e-40b4-be38-a6abff1e3968",
   "metadata": {},
   "outputs": [
    {
     "data": {
      "text/plain": [
       "<lifetimes.BetaGeoFitter: fitted with 2845 subjects, a: 0.12, alpha: 11.41, b: 2.49, r: 2.18>"
      ]
     },
     "execution_count": 37,
     "metadata": {},
     "output_type": "execute_result"
    }
   ],
   "source": [
    "bgf.fit(cltv_df['frequency'],\n",
    "        cltv_df['recency'],\n",
    "        cltv_df['T'])"
   ]
  },
  {
   "cell_type": "markdown",
   "id": "6e436f9d-5e14-4b03-ac76-c23fd287eb21",
   "metadata": {},
   "source": [
    "- **10 customers with the most expected purchases in 1 month.**\n",
    "  - (1 ayda en çok satın alma beklenen 10 müşteri)"
   ]
  },
  {
   "cell_type": "code",
   "execution_count": 38,
   "id": "cd84b9e3-539f-4a8d-a438-db230f58bc51",
   "metadata": {},
   "outputs": [
    {
     "data": {
      "text/plain": [
       "Customer ID\n",
       "12748.000   12.963\n",
       "14911.000   12.472\n",
       "17841.000    7.740\n",
       "13089.000    6.133\n",
       "14606.000    5.840\n",
       "15311.000    5.719\n",
       "12971.000    5.413\n",
       "14646.000    4.812\n",
       "13408.000    3.934\n",
       "18102.000    3.864\n",
       "dtype: float64"
      ]
     },
     "execution_count": 38,
     "metadata": {},
     "output_type": "execute_result"
    }
   ],
   "source": [
    "bgf.predict(4,\n",
    "            cltv_df['frequency'],\n",
    "            cltv_df['recency'],\n",
    "            cltv_df['T']).sort_values(ascending=False).head(10)"
   ]
  },
  {
   "cell_type": "markdown",
   "id": "f2ff56c9-f019-4ff7-a56a-94ba2ffec64f",
   "metadata": {},
   "source": [
    "- **The company's expected total sales in 1 month.**\n",
    "  - (Şirketin 1 ayda beklenen toplam satışları)"
   ]
  },
  {
   "cell_type": "code",
   "execution_count": 39,
   "id": "c6d120d2-489c-45c9-b522-4438bf9a75e0",
   "metadata": {},
   "outputs": [
    {
     "data": {
      "text/plain": [
       "1776.8934732202933"
      ]
     },
     "execution_count": 39,
     "metadata": {},
     "output_type": "execute_result"
    }
   ],
   "source": [
    "bgf.predict(4,\n",
    "            cltv_df['frequency'],\n",
    "            cltv_df['recency'],\n",
    "            cltv_df['T']).sum()"
   ]
  },
  {
   "cell_type": "markdown",
   "id": "ba8bd909-e7ec-4d53-96ed-de7cd7ce7c7a",
   "metadata": {},
   "source": [
    "- **10 customers with the most expected purchases in 3 month.**\n",
    "  - (3 ayda en çok satın alma beklenen 10 müşteri)"
   ]
  },
  {
   "cell_type": "code",
   "execution_count": 40,
   "id": "9ea60d7d-9f0c-4864-a78f-3ca1a65cbd1e",
   "metadata": {},
   "outputs": [
    {
     "data": {
      "text/plain": [
       "Customer ID\n",
       "12748.000   38.628\n",
       "14911.000   37.164\n",
       "17841.000   23.062\n",
       "13089.000   18.274\n",
       "14606.000   17.401\n",
       "15311.000   17.041\n",
       "12971.000   16.129\n",
       "14646.000   14.334\n",
       "13408.000   11.722\n",
       "18102.000   11.511\n",
       "dtype: float64"
      ]
     },
     "execution_count": 40,
     "metadata": {},
     "output_type": "execute_result"
    }
   ],
   "source": [
    "bgf.predict(4*3,\n",
    "            cltv_df['frequency'],\n",
    "            cltv_df['recency'],\n",
    "            cltv_df['T']).sort_values(ascending=False).head(10)"
   ]
  },
  {
   "cell_type": "markdown",
   "id": "0affaaad-5c65-4614-81cb-08de68e892bf",
   "metadata": {},
   "source": [
    "- **The company's expected total sales in 3 month.**\n",
    "  - (Şirketin 3 ayda beklenen toplam satışları)"
   ]
  },
  {
   "cell_type": "code",
   "execution_count": 41,
   "id": "b82ea4c6-6cb2-4e24-beb3-8e6028eb68ea",
   "metadata": {},
   "outputs": [
    {
     "data": {
      "text/plain": [
       "5271.112433826356"
      ]
     },
     "execution_count": 41,
     "metadata": {},
     "output_type": "execute_result"
    }
   ],
   "source": [
    "bgf.predict(4*3,\n",
    "            cltv_df['frequency'],\n",
    "            cltv_df['recency'],\n",
    "            cltv_df['T']).sum()"
   ]
  },
  {
   "cell_type": "code",
   "execution_count": 42,
   "id": "5b93213a-d563-418a-817f-0ae7163a2e03",
   "metadata": {},
   "outputs": [
    {
     "data": {
      "image/png": "[encoded data removed]",
      "text/plain": [
       "<Figure size 640x480 with 1 Axes>"
      ]
     },
     "metadata": {},
     "output_type": "display_data"
    }
   ],
   "source": [
    "plot_period_transactions(bgf)\n",
    "plt.show()"
   ]
  },
  {
   "cell_type": "markdown",
   "id": "5f76a138-bd32-4026-b3ee-a0dcb7821b1d",
   "metadata": {},
   "source": [
    "#### Establishing the 'Gamma - Gamma' Model (Gamma - Gamma Modelinin Kurulması)"
   ]
  },
  {
   "cell_type": "code",
   "execution_count": 43,
   "id": "5adae02a-5ba7-45c0-a4b2-70b9caaa479f",
   "metadata": {},
   "outputs": [],
   "source": [
    "ggf = GammaGammaFitter(penalizer_coef=0.01)"
   ]
  },
  {
   "cell_type": "code",
   "execution_count": 44,
   "id": "2cc305fd-703a-4387-b8c8-75d2f660aad4",
   "metadata": {},
   "outputs": [
    {
     "data": {
      "text/plain": [
       "<lifetimes.GammaGammaFitter: fitted with 2845 subjects, p: 3.79, q: 0.34, v: 3.73>"
      ]
     },
     "execution_count": 44,
     "metadata": {},
     "output_type": "execute_result"
    }
   ],
   "source": [
    "ggf.fit(cltv_df['frequency'],\n",
    "        cltv_df['monetary'])"
   ]
  },
  {
   "cell_type": "markdown",
   "id": "90f59ebf-d35e-4db0-8754-4ad238106428",
   "metadata": {},
   "source": [
    "- **10 customers expected to generate the most profit**\n",
    "  - (En fazla karı elde etmesi beklenen 10 müşteri)"
   ]
  },
  {
   "cell_type": "code",
   "execution_count": 45,
   "id": "7cbcf27f-b1fa-4064-a7f8-30039f12256e",
   "metadata": {},
   "outputs": [
    {
     "data": {
      "text/plain": [
       "Customer ID\n",
       "12415.000   5772.178\n",
       "12590.000   5029.420\n",
       "12435.000   4288.944\n",
       "12409.000   3918.813\n",
       "14088.000   3917.130\n",
       "18102.000   3870.997\n",
       "12753.000   3678.578\n",
       "14646.000   3654.815\n",
       "15749.000   3216.052\n",
       "14096.000   3196.436\n",
       "dtype: float64"
      ]
     },
     "execution_count": 45,
     "metadata": {},
     "output_type": "execute_result"
    }
   ],
   "source": [
    "ggf.conditional_expected_average_profit(cltv_df['frequency'],\n",
    "                                        cltv_df['monetary']).sort_values(ascending=False).head(10)"
   ]
  },
  {
   "cell_type": "markdown",
   "id": "b952af90-6e9a-42a4-ada3-4ba6db4b8698",
   "metadata": {},
   "source": [
    "### 1. Task (1. Görev): Predicting 6-Month CLTV by Establishing BG-NBD and Gamma-Gamma Models (BG-NBD ve Gamma-Gamma Modellerini Kurarak 6 Aylık CLTV Tahmini Yapılması)\n",
    "\n",
    "---\n",
    "\n",
    "- **Step 1:** *Estimate 6-month CLTV for UK customers using data from 2010-2011*\n",
    "\n",
    "  - (**Adım 1:** *2010-2011 yıllarındaki veriyi kullanarak İngiltere’deki müşteriler için 6 aylık CLTV tahmini yapınız*)\n",
    "\n",
    "---"
   ]
  },
  {
   "cell_type": "code",
   "execution_count": 126,
   "id": "b5021c2c-37ab-4305-b3cc-808491777da6",
   "metadata": {},
   "outputs": [],
   "source": [
    "def cltv_p(dataframe, month=6):\n",
    "\n",
    "    cltv_df = dataframe.groupby('Customer ID').agg(\n",
    "        {'InvoiceDate': [lambda x: (x.max() - x.min()).days,\n",
    "                         lambda x: (today_date - x.min()).days],\n",
    "        'Invoice': lambda x: x.nunique(),\n",
    "        'TotalPrice': lambda x: x.sum()})\n",
    "\n",
    "    cltv_df.columns = cltv_df.columns.droplevel(0)\n",
    "    cltv_df.columns = ['recency', 'T', 'frequency', 'monetary']\n",
    "    cltv_df['monetary'] = cltv_df['monetary'] / cltv_df['frequency']\n",
    "    cltv_df = cltv_df[(cltv_df['frequency'] > 1)]\n",
    "    cltv_df['recency'] = cltv_df['recency'] / 7\n",
    "    cltv_df['T'] = cltv_df['T'] / 7\n",
    "\n",
    "    # 2. BG-NBD Modelinin Kurulmasi\n",
    "    bgf = BetaGeoFitter(penalizer_coef = 0.001)\n",
    "    bgf.fit(cltv_df['frequency'],\n",
    "            cltv_df['recency'],\n",
    "            cltv_df['T'])\n",
    "\n",
    "   \n",
    "    # 3. GAMMA-GAMMA Modelinin Kurulmasi\n",
    "    ggf = GammaGammaFitter(penalizer_coef=0.01)\n",
    "    ggf.fit(cltv_df['frequency'],\n",
    "            cltv_df['monetary'])\n",
    "\n",
    "\n",
    "    # 4. BG-NBD ve GG Modeli ile CLTV'nin Hesaplanmasi\n",
    "    cltv = ggf.customer_lifetime_value(bgf,\n",
    "                                       cltv_df['frequency'],\n",
    "                                       cltv_df['recency'],\n",
    "                                       cltv_df['T'],\n",
    "                                       cltv_df['monetary'],\n",
    "                                       time=month, # 3 aylik\n",
    "                                       freq='W', # T'nin frekans bilgisi.\n",
    "                                       discount_rate=0.01)\n",
    "\n",
    "    return cltv_df, cltv"
   ]
  },
  {
   "cell_type": "code",
   "execution_count": 127,
   "id": "29f4d46e-2c13-46d3-aec1-1353c3b4b1df",
   "metadata": {},
   "outputs": [
    {
     "data": {
      "text/plain": [
       "array(['UK', 'France', 'Australia', 'Netherlands', 'Germany', 'Norway',\n",
       "       'EIRE', 'Switzerland', 'Spain', 'Poland', 'Portugal', 'Italy',\n",
       "       'Belgium', 'Lithuania', 'Japan', 'Iceland', 'Channel Islands',\n",
       "       'Denmark', 'Cyprus', 'Sweden', 'Finland', 'Austria', 'Greece',\n",
       "       'Singapore', 'Lebanon', 'United Arab Emirates', 'Israel',\n",
       "       'Saudi Arabia', 'Czech Republic', 'Canada', 'Unspecified',\n",
       "       'Brazil', 'USA', 'European Community', 'Bahrain', 'Malta', 'RSA'],\n",
       "      dtype=object)"
      ]
     },
     "execution_count": 127,
     "metadata": {},
     "output_type": "execute_result"
    }
   ],
   "source": [
    "df['Country'].unique()"
   ]
  },
  {
   "cell_type": "code",
   "execution_count": 128,
   "id": "a47fea9e-4d3e-4d11-a820-4b4d20969fd3",
   "metadata": {},
   "outputs": [],
   "source": [
    "df.loc[(df['Country'] == 'United Kingdom'), 'Country'] = 'UK'"
   ]
  },
  {
   "cell_type": "code",
   "execution_count": 129,
   "id": "2a938126-c702-4f99-92bd-f7cf6ea0b11d",
   "metadata": {},
   "outputs": [],
   "source": [
    "df_UK = df[df['Country'].str.contains('UK')]"
   ]
  },
  {
   "cell_type": "code",
   "execution_count": 130,
   "id": "87bd944f-11d6-4f66-b526-44a6ad0b5c45",
   "metadata": {},
   "outputs": [
    {
     "data": {
      "text/plain": [
       "(354321, 9)"
      ]
     },
     "execution_count": 130,
     "metadata": {},
     "output_type": "execute_result"
    }
   ],
   "source": [
    "df_UK.shape"
   ]
  },
  {
   "cell_type": "code",
   "execution_count": 131,
   "id": "4be99b0b-ac23-4860-8b4e-3f4a71516c51",
   "metadata": {},
   "outputs": [],
   "source": [
    "cltv_UK_df, cltv_UK_6_month = cltv_p(df_UK, month=6)"
   ]
  },
  {
   "cell_type": "code",
   "execution_count": 132,
   "id": "0811542c-cc01-498f-8b83-caf0b690e960",
   "metadata": {},
   "outputs": [
    {
     "data": {
      "text/plain": [
       "2570"
      ]
     },
     "execution_count": 132,
     "metadata": {},
     "output_type": "execute_result"
    }
   ],
   "source": [
    "cltv_UK_6_month.nunique()"
   ]
  },
  {
   "cell_type": "code",
   "execution_count": 133,
   "id": "37689b5f-a807-41b8-b28a-8dae735f9388",
   "metadata": {},
   "outputs": [
    {
     "data": {
      "text/plain": [
       "Customer ID\n",
       "12747.000    1937.035\n",
       "12748.000   12395.362\n",
       "12749.000    3450.678\n",
       "12820.000     631.958\n",
       "12822.000    1612.262\n",
       "               ...   \n",
       "18272.000    2225.480\n",
       "18273.000     187.890\n",
       "18282.000     325.433\n",
       "18283.000     983.330\n",
       "18287.000    1918.199\n",
       "Name: clv, Length: 2570, dtype: float64"
      ]
     },
     "execution_count": 133,
     "metadata": {},
     "output_type": "execute_result"
    }
   ],
   "source": [
    "cltv_UK_6_month"
   ]
  },
  {
   "cell_type": "code",
   "execution_count": 134,
   "id": "979572b2-b99d-43a0-9ab0-8bc52d452de1",
   "metadata": {},
   "outputs": [
    {
     "data": {
      "text/html": [
       "<div>\n",
       "<style scoped>\n",
       "    .dataframe tbody tr th:only-of-type {\n",
       "        vertical-align: middle;\n",
       "    }\n",
       "\n",
       "    .dataframe tbody tr th {\n",
       "        vertical-align: top;\n",
       "    }\n",
       "\n",
       "    .dataframe thead th {\n",
       "        text-align: right;\n",
       "    }\n",
       "</style>\n",
       "<table border=\"1\" class=\"dataframe\">\n",
       "  <thead>\n",
       "    <tr style=\"text-align: right;\">\n",
       "      <th></th>\n",
       "      <th>recency</th>\n",
       "      <th>T</th>\n",
       "      <th>frequency</th>\n",
       "      <th>monetary</th>\n",
       "    </tr>\n",
       "    <tr>\n",
       "      <th>Customer ID</th>\n",
       "      <th></th>\n",
       "      <th></th>\n",
       "      <th></th>\n",
       "      <th></th>\n",
       "    </tr>\n",
       "  </thead>\n",
       "  <tbody>\n",
       "    <tr>\n",
       "      <th>12747.000</th>\n",
       "      <td>52.286</td>\n",
       "      <td>52.857</td>\n",
       "      <td>11</td>\n",
       "      <td>381.455</td>\n",
       "    </tr>\n",
       "    <tr>\n",
       "      <th>12748.000</th>\n",
       "      <td>53.143</td>\n",
       "      <td>53.429</td>\n",
       "      <td>209</td>\n",
       "      <td>154.930</td>\n",
       "    </tr>\n",
       "    <tr>\n",
       "      <th>12749.000</th>\n",
       "      <td>29.857</td>\n",
       "      <td>30.571</td>\n",
       "      <td>5</td>\n",
       "      <td>815.588</td>\n",
       "    </tr>\n",
       "    <tr>\n",
       "      <th>12820.000</th>\n",
       "      <td>46.143</td>\n",
       "      <td>46.714</td>\n",
       "      <td>4</td>\n",
       "      <td>235.585</td>\n",
       "    </tr>\n",
       "    <tr>\n",
       "      <th>12822.000</th>\n",
       "      <td>2.286</td>\n",
       "      <td>12.571</td>\n",
       "      <td>2</td>\n",
       "      <td>474.440</td>\n",
       "    </tr>\n",
       "    <tr>\n",
       "      <th>...</th>\n",
       "      <td>...</td>\n",
       "      <td>...</td>\n",
       "      <td>...</td>\n",
       "      <td>...</td>\n",
       "    </tr>\n",
       "    <tr>\n",
       "      <th>18272.000</th>\n",
       "      <td>34.857</td>\n",
       "      <td>35.286</td>\n",
       "      <td>6</td>\n",
       "      <td>513.097</td>\n",
       "    </tr>\n",
       "    <tr>\n",
       "      <th>18273.000</th>\n",
       "      <td>36.429</td>\n",
       "      <td>36.857</td>\n",
       "      <td>3</td>\n",
       "      <td>68.000</td>\n",
       "    </tr>\n",
       "    <tr>\n",
       "      <th>18282.000</th>\n",
       "      <td>16.857</td>\n",
       "      <td>18.143</td>\n",
       "      <td>2</td>\n",
       "      <td>89.025</td>\n",
       "    </tr>\n",
       "    <tr>\n",
       "      <th>18283.000</th>\n",
       "      <td>47.571</td>\n",
       "      <td>48.286</td>\n",
       "      <td>16</td>\n",
       "      <td>130.930</td>\n",
       "    </tr>\n",
       "    <tr>\n",
       "      <th>18287.000</th>\n",
       "      <td>22.571</td>\n",
       "      <td>28.857</td>\n",
       "      <td>3</td>\n",
       "      <td>612.427</td>\n",
       "    </tr>\n",
       "  </tbody>\n",
       "</table>\n",
       "<p>2570 rows × 4 columns</p>\n",
       "</div>"
      ],
      "text/plain": [
       "             recency      T  frequency  monetary\n",
       "Customer ID                                     \n",
       "12747.000     52.286 52.857         11   381.455\n",
       "12748.000     53.143 53.429        209   154.930\n",
       "12749.000     29.857 30.571          5   815.588\n",
       "12820.000     46.143 46.714          4   235.585\n",
       "12822.000      2.286 12.571          2   474.440\n",
       "...              ...    ...        ...       ...\n",
       "18272.000     34.857 35.286          6   513.097\n",
       "18273.000     36.429 36.857          3    68.000\n",
       "18282.000     16.857 18.143          2    89.025\n",
       "18283.000     47.571 48.286         16   130.930\n",
       "18287.000     22.571 28.857          3   612.427\n",
       "\n",
       "[2570 rows x 4 columns]"
      ]
     },
     "execution_count": 134,
     "metadata": {},
     "output_type": "execute_result"
    }
   ],
   "source": [
    "cltv_UK_df"
   ]
  },
  {
   "cell_type": "markdown",
   "id": "d362f1e2-ba45-4296-a7ad-1a1075d31fc2",
   "metadata": {},
   "source": [
    "---\n",
    "\n",
    "- **Step 2:** *Interpret and evaluate the results you get.*\n",
    "\n",
    "  - (**Adım 2:** *Elde ettiğiniz sonuçları yorumlayıp, değerlendiriniz*)\n",
    " \n",
    "---"
   ]
  },
  {
   "cell_type": "code",
   "execution_count": 135,
   "id": "196d996c-a190-46b7-8390-3e7698863d39",
   "metadata": {},
   "outputs": [],
   "source": [
    "cltv_UK_6_month = cltv_UK_6_month.reset_index()"
   ]
  },
  {
   "cell_type": "code",
   "execution_count": 136,
   "id": "f3cdccc8-ab42-4a9e-8d53-0dd44210e4e7",
   "metadata": {},
   "outputs": [],
   "source": [
    "cltv_6_month_final = cltv_UK_df.merge(cltv_UK_6_month, on='Customer ID', how='left')"
   ]
  },
  {
   "cell_type": "code",
   "execution_count": 137,
   "id": "e5c44893-62f6-4cf3-bebf-1b59d1a1308a",
   "metadata": {},
   "outputs": [
    {
     "data": {
      "text/html": [
       "<div>\n",
       "<style scoped>\n",
       "    .dataframe tbody tr th:only-of-type {\n",
       "        vertical-align: middle;\n",
       "    }\n",
       "\n",
       "    .dataframe tbody tr th {\n",
       "        vertical-align: top;\n",
       "    }\n",
       "\n",
       "    .dataframe thead th {\n",
       "        text-align: right;\n",
       "    }\n",
       "</style>\n",
       "<table border=\"1\" class=\"dataframe\">\n",
       "  <thead>\n",
       "    <tr style=\"text-align: right;\">\n",
       "      <th></th>\n",
       "      <th>Customer ID</th>\n",
       "      <th>recency</th>\n",
       "      <th>T</th>\n",
       "      <th>frequency</th>\n",
       "      <th>monetary</th>\n",
       "      <th>clv</th>\n",
       "    </tr>\n",
       "  </thead>\n",
       "  <tbody>\n",
       "    <tr>\n",
       "      <th>2486</th>\n",
       "      <td>18102.000</td>\n",
       "      <td>52.286</td>\n",
       "      <td>52.571</td>\n",
       "      <td>60</td>\n",
       "      <td>3859.739</td>\n",
       "      <td>92215.234</td>\n",
       "    </tr>\n",
       "    <tr>\n",
       "      <th>589</th>\n",
       "      <td>14096.000</td>\n",
       "      <td>13.857</td>\n",
       "      <td>14.571</td>\n",
       "      <td>17</td>\n",
       "      <td>3163.588</td>\n",
       "      <td>55726.778</td>\n",
       "    </tr>\n",
       "    <tr>\n",
       "      <th>2184</th>\n",
       "      <td>17450.000</td>\n",
       "      <td>51.286</td>\n",
       "      <td>52.571</td>\n",
       "      <td>46</td>\n",
       "      <td>2863.275</td>\n",
       "      <td>52846.108</td>\n",
       "    </tr>\n",
       "    <tr>\n",
       "      <th>2213</th>\n",
       "      <td>17511.000</td>\n",
       "      <td>52.857</td>\n",
       "      <td>53.429</td>\n",
       "      <td>31</td>\n",
       "      <td>2933.943</td>\n",
       "      <td>36947.208</td>\n",
       "    </tr>\n",
       "    <tr>\n",
       "      <th>1804</th>\n",
       "      <td>16684.000</td>\n",
       "      <td>50.429</td>\n",
       "      <td>51.286</td>\n",
       "      <td>28</td>\n",
       "      <td>2209.969</td>\n",
       "      <td>26146.294</td>\n",
       "    </tr>\n",
       "    <tr>\n",
       "      <th>406</th>\n",
       "      <td>13694.000</td>\n",
       "      <td>52.714</td>\n",
       "      <td>53.429</td>\n",
       "      <td>50</td>\n",
       "      <td>1275.700</td>\n",
       "      <td>25224.935</td>\n",
       "    </tr>\n",
       "    <tr>\n",
       "      <th>587</th>\n",
       "      <td>14088.000</td>\n",
       "      <td>44.571</td>\n",
       "      <td>46.143</td>\n",
       "      <td>13</td>\n",
       "      <td>3864.555</td>\n",
       "      <td>25041.839</td>\n",
       "    </tr>\n",
       "    <tr>\n",
       "      <th>1485</th>\n",
       "      <td>16000.000</td>\n",
       "      <td>0.000</td>\n",
       "      <td>0.429</td>\n",
       "      <td>3</td>\n",
       "      <td>2335.120</td>\n",
       "      <td>23975.522</td>\n",
       "    </tr>\n",
       "    <tr>\n",
       "      <th>1173</th>\n",
       "      <td>15311.000</td>\n",
       "      <td>53.286</td>\n",
       "      <td>53.429</td>\n",
       "      <td>91</td>\n",
       "      <td>667.779</td>\n",
       "      <td>23597.165</td>\n",
       "    </tr>\n",
       "    <tr>\n",
       "      <th>133</th>\n",
       "      <td>13089.000</td>\n",
       "      <td>52.286</td>\n",
       "      <td>52.857</td>\n",
       "      <td>97</td>\n",
       "      <td>606.362</td>\n",
       "      <td>22971.584</td>\n",
       "    </tr>\n",
       "  </tbody>\n",
       "</table>\n",
       "</div>"
      ],
      "text/plain": [
       "      Customer ID  recency      T  frequency  monetary       clv\n",
       "2486    18102.000   52.286 52.571         60  3859.739 92215.234\n",
       "589     14096.000   13.857 14.571         17  3163.588 55726.778\n",
       "2184    17450.000   51.286 52.571         46  2863.275 52846.108\n",
       "2213    17511.000   52.857 53.429         31  2933.943 36947.208\n",
       "1804    16684.000   50.429 51.286         28  2209.969 26146.294\n",
       "406     13694.000   52.714 53.429         50  1275.700 25224.935\n",
       "587     14088.000   44.571 46.143         13  3864.555 25041.839\n",
       "1485    16000.000    0.000  0.429          3  2335.120 23975.522\n",
       "1173    15311.000   53.286 53.429         91   667.779 23597.165\n",
       "133     13089.000   52.286 52.857         97   606.362 22971.584"
      ]
     },
     "execution_count": 137,
     "metadata": {},
     "output_type": "execute_result"
    }
   ],
   "source": [
    "cltv_6_month_final.sort_values(by='clv', ascending=False).head(10)"
   ]
  },
  {
   "cell_type": "code",
   "execution_count": 138,
   "id": "c07c4b04-86fc-4451-b322-4cda70ac012b",
   "metadata": {},
   "outputs": [
    {
     "data": {
      "text/html": [
       "<div>\n",
       "<style scoped>\n",
       "    .dataframe tbody tr th:only-of-type {\n",
       "        vertical-align: middle;\n",
       "    }\n",
       "\n",
       "    .dataframe tbody tr th {\n",
       "        vertical-align: top;\n",
       "    }\n",
       "\n",
       "    .dataframe thead th {\n",
       "        text-align: right;\n",
       "    }\n",
       "</style>\n",
       "<table border=\"1\" class=\"dataframe\">\n",
       "  <thead>\n",
       "    <tr style=\"text-align: right;\">\n",
       "      <th></th>\n",
       "      <th>count</th>\n",
       "      <th>mean</th>\n",
       "      <th>std</th>\n",
       "      <th>min</th>\n",
       "      <th>5%</th>\n",
       "      <th>25%</th>\n",
       "      <th>50%</th>\n",
       "      <th>60%</th>\n",
       "      <th>70%</th>\n",
       "      <th>75%</th>\n",
       "      <th>80%</th>\n",
       "      <th>85%</th>\n",
       "      <th>90%</th>\n",
       "      <th>95%</th>\n",
       "      <th>99%</th>\n",
       "      <th>max</th>\n",
       "    </tr>\n",
       "  </thead>\n",
       "  <tbody>\n",
       "    <tr>\n",
       "      <th>Customer ID</th>\n",
       "      <td>2570.000</td>\n",
       "      <td>15553.686</td>\n",
       "      <td>1576.366</td>\n",
       "      <td>12747.000</td>\n",
       "      <td>13079.900</td>\n",
       "      <td>14206.000</td>\n",
       "      <td>15575.500</td>\n",
       "      <td>16116.600</td>\n",
       "      <td>16672.600</td>\n",
       "      <td>16926.250</td>\n",
       "      <td>17190.200</td>\n",
       "      <td>17449.650</td>\n",
       "      <td>17705.100</td>\n",
       "      <td>17992.650</td>\n",
       "      <td>18228.310</td>\n",
       "      <td>18287.000</td>\n",
       "    </tr>\n",
       "    <tr>\n",
       "      <th>recency</th>\n",
       "      <td>2570.000</td>\n",
       "      <td>28.549</td>\n",
       "      <td>16.244</td>\n",
       "      <td>0.000</td>\n",
       "      <td>2.286</td>\n",
       "      <td>14.429</td>\n",
       "      <td>29.857</td>\n",
       "      <td>35.143</td>\n",
       "      <td>39.714</td>\n",
       "      <td>42.714</td>\n",
       "      <td>45.886</td>\n",
       "      <td>48.714</td>\n",
       "      <td>50.429</td>\n",
       "      <td>51.714</td>\n",
       "      <td>52.616</td>\n",
       "      <td>53.286</td>\n",
       "    </tr>\n",
       "    <tr>\n",
       "      <th>T</th>\n",
       "      <td>2570.000</td>\n",
       "      <td>37.078</td>\n",
       "      <td>14.743</td>\n",
       "      <td>0.429</td>\n",
       "      <td>7.636</td>\n",
       "      <td>28.179</td>\n",
       "      <td>40.571</td>\n",
       "      <td>44.571</td>\n",
       "      <td>47.857</td>\n",
       "      <td>51.286</td>\n",
       "      <td>51.857</td>\n",
       "      <td>52.429</td>\n",
       "      <td>52.714</td>\n",
       "      <td>53.286</td>\n",
       "      <td>53.429</td>\n",
       "      <td>53.429</td>\n",
       "    </tr>\n",
       "    <tr>\n",
       "      <th>frequency</th>\n",
       "      <td>2570.000</td>\n",
       "      <td>5.952</td>\n",
       "      <td>8.403</td>\n",
       "      <td>2.000</td>\n",
       "      <td>2.000</td>\n",
       "      <td>2.000</td>\n",
       "      <td>4.000</td>\n",
       "      <td>4.000</td>\n",
       "      <td>6.000</td>\n",
       "      <td>6.000</td>\n",
       "      <td>7.000</td>\n",
       "      <td>9.000</td>\n",
       "      <td>12.000</td>\n",
       "      <td>17.000</td>\n",
       "      <td>37.000</td>\n",
       "      <td>209.000</td>\n",
       "    </tr>\n",
       "    <tr>\n",
       "      <th>monetary</th>\n",
       "      <td>2570.000</td>\n",
       "      <td>346.030</td>\n",
       "      <td>283.005</td>\n",
       "      <td>3.450</td>\n",
       "      <td>97.665</td>\n",
       "      <td>187.216</td>\n",
       "      <td>290.191</td>\n",
       "      <td>330.649</td>\n",
       "      <td>379.616</td>\n",
       "      <td>416.312</td>\n",
       "      <td>459.001</td>\n",
       "      <td>510.568</td>\n",
       "      <td>598.922</td>\n",
       "      <td>772.660</td>\n",
       "      <td>1513.889</td>\n",
       "      <td>3864.555</td>\n",
       "    </tr>\n",
       "    <tr>\n",
       "      <th>clv</th>\n",
       "      <td>2570.000</td>\n",
       "      <td>1528.112</td>\n",
       "      <td>3156.865</td>\n",
       "      <td>0.000</td>\n",
       "      <td>120.686</td>\n",
       "      <td>498.481</td>\n",
       "      <td>954.562</td>\n",
       "      <td>1178.088</td>\n",
       "      <td>1483.893</td>\n",
       "      <td>1705.695</td>\n",
       "      <td>1921.801</td>\n",
       "      <td>2292.748</td>\n",
       "      <td>2884.816</td>\n",
       "      <td>3956.918</td>\n",
       "      <td>12360.180</td>\n",
       "      <td>92215.234</td>\n",
       "    </tr>\n",
       "  </tbody>\n",
       "</table>\n",
       "</div>"
      ],
      "text/plain": [
       "               count      mean      std       min        5%       25%       50%       60%       70%       75%       80%       85%       90%       95%       99%       max\n",
       "Customer ID 2570.000 15553.686 1576.366 12747.000 13079.900 14206.000 15575.500 16116.600 16672.600 16926.250 17190.200 17449.650 17705.100 17992.650 18228.310 18287.000\n",
       "recency     2570.000    28.549   16.244     0.000     2.286    14.429    29.857    35.143    39.714    42.714    45.886    48.714    50.429    51.714    52.616    53.286\n",
       "T           2570.000    37.078   14.743     0.429     7.636    28.179    40.571    44.571    47.857    51.286    51.857    52.429    52.714    53.286    53.429    53.429\n",
       "frequency   2570.000     5.952    8.403     2.000     2.000     2.000     4.000     4.000     6.000     6.000     7.000     9.000    12.000    17.000    37.000   209.000\n",
       "monetary    2570.000   346.030  283.005     3.450    97.665   187.216   290.191   330.649   379.616   416.312   459.001   510.568   598.922   772.660  1513.889  3864.555\n",
       "clv         2570.000  1528.112 3156.865     0.000   120.686   498.481   954.562  1178.088  1483.893  1705.695  1921.801  2292.748  2884.816  3956.918 12360.180 92215.234"
      ]
     },
     "execution_count": 138,
     "metadata": {},
     "output_type": "execute_result"
    }
   ],
   "source": [
    "cltv_6_month_final.describe([0.05, 0.25, 0.50, 0.60, 0.70, 0.75, 0.80, 0.85, 0.90, 0.95, 0.99]).T"
   ]
  },
  {
   "cell_type": "code",
   "execution_count": 139,
   "id": "61e07d31-25f2-44af-8f05-d16c365f0d69",
   "metadata": {
    "scrolled": true
   },
   "outputs": [
    {
     "data": {
      "image/png": "[encoded data removed]",
      "text/plain": [
       "<Figure size 640x480 with 1 Axes>"
      ]
     },
     "metadata": {},
     "output_type": "display_data"
    },
    {
     "data": {
      "image/png": "[encoded data removed]",
      "text/plain": [
       "<Figure size 640x480 with 1 Axes>"
      ]
     },
     "metadata": {},
     "output_type": "display_data"
    },
    {
     "data": {
      "image/png": "[encoded data removed]",
      "text/plain": [
       "<Figure size 640x480 with 1 Axes>"
      ]
     },
     "metadata": {},
     "output_type": "display_data"
    },
    {
     "data": {
      "image/png": "[encoded data removed]",
      "text/plain": [
       "<Figure size 640x480 with 1 Axes>"
      ]
     },
     "metadata": {},
     "output_type": "display_data"
    },
    {
     "data": {
      "image/png": "[encoded data removed]",
      "text/plain": [
       "<Figure size 640x480 with 1 Axes>"
      ]
     },
     "metadata": {},
     "output_type": "display_data"
    },
    {
     "data": {
      "image/png": "[encoded data removed]",
      "text/plain": [
       "<Figure size 640x480 with 1 Axes>"
      ]
     },
     "metadata": {},
     "output_type": "display_data"
    }
   ],
   "source": [
    "for col in cltv_6_month_final.columns:\n",
    "    plt.title(col)\n",
    "    cltv_6_month_final[col].hist()\n",
    "    plt.show()"
   ]
  },
  {
   "cell_type": "code",
   "execution_count": 140,
   "id": "0b150a65-663c-442a-8e22-ac325e5c7022",
   "metadata": {
    "scrolled": true
   },
   "outputs": [
    {
     "data": {
      "image/png": "[encoded data removed]",
      "text/plain": [
       "<Figure size 640x480 with 1 Axes>"
      ]
     },
     "metadata": {},
     "output_type": "display_data"
    },
    {
     "data": {
      "image/png": "[encoded data removed]",
      "text/plain": [
       "<Figure size 640x480 with 1 Axes>"
      ]
     },
     "metadata": {},
     "output_type": "display_data"
    },
    {
     "data": {
      "image/png": "[encoded data removed]",
      "text/plain": [
       "<Figure size 640x480 with 1 Axes>"
      ]
     },
     "metadata": {},
     "output_type": "display_data"
    },
    {
     "data": {
      "image/png": "[encoded data removed]",
      "text/plain": [
       "<Figure size 640x480 with 1 Axes>"
      ]
     },
     "metadata": {},
     "output_type": "display_data"
    },
    {
     "data": {
      "image/png": "[encoded data removed]",
      "text/plain": [
       "<Figure size 640x480 with 1 Axes>"
      ]
     },
     "metadata": {},
     "output_type": "display_data"
    },
    {
     "data": {
      "image/png": "[encoded data removed]",
      "text/plain": [
       "<Figure size 640x480 with 1 Axes>"
      ]
     },
     "metadata": {},
     "output_type": "display_data"
    }
   ],
   "source": [
    "for col in cltv_6_month_final.columns:\n",
    "    plt.title(col)\n",
    "    sns.boxplot(cltv_6_month_final[col])\n",
    "    plt.show()"
   ]
  },
  {
   "cell_type": "markdown",
   "id": "b647e50e-1368-4186-9825-d0700f815885",
   "metadata": {},
   "source": [
    "### 2. Task (2. Görev): CLTV Analysis Consisting of Different Time Periods (Farklı Zaman Periyotlarından Oluşan CLTV Analizi)\n",
    "\n",
    "---\n",
    "\n",
    "- **Step 1:** *Calculate 1-month and 12-month CLTV for 2010-2011 UK customers.*\n",
    "\n",
    "  - (**Adım 1:** *2010-2011 UK müşterileri için 1 aylık ve 12 aylık CLTV hesaplayınız.*)\n",
    "\n",
    "---"
   ]
  },
  {
   "cell_type": "code",
   "execution_count": 141,
   "id": "25dfd402-5afa-4f8d-ae93-c957e368a4d8",
   "metadata": {},
   "outputs": [],
   "source": [
    "cltv_UK_df, cltv_uk_1_month = cltv_p(df_UK, month=1)"
   ]
  },
  {
   "cell_type": "code",
   "execution_count": 142,
   "id": "c64f9ec2-f1f9-4de8-85a0-4ff3873f97a7",
   "metadata": {},
   "outputs": [],
   "source": [
    "cltv_UK_df = cltv_UK_df.reset_index()"
   ]
  },
  {
   "cell_type": "code",
   "execution_count": 143,
   "id": "e5f05555-e318-4e2c-91c6-099e4aa9f743",
   "metadata": {},
   "outputs": [],
   "source": [
    "cltv_1_month_final = cltv_UK_df.merge(cltv_uk_1_month, on='Customer ID', how='left')"
   ]
  },
  {
   "cell_type": "code",
   "execution_count": 144,
   "id": "90cfb3e9-28d8-4128-905d-fc1010e6042a",
   "metadata": {},
   "outputs": [],
   "source": [
    "cltv_UK_df, cltv_uk_12_month = cltv_p(df_UK, month=12)"
   ]
  },
  {
   "cell_type": "code",
   "execution_count": 145,
   "id": "38ec0754-36da-4686-9cf2-9a2383570698",
   "metadata": {},
   "outputs": [],
   "source": [
    "cltv_UK_df = cltv_UK_df.reset_index()"
   ]
  },
  {
   "cell_type": "code",
   "execution_count": 146,
   "id": "b6c025e8-dec0-44c1-99a0-acdcb536033c",
   "metadata": {},
   "outputs": [],
   "source": [
    "cltv_12_month_final = cltv_UK_df.merge(cltv_uk_12_month, on='Customer ID', how='left')"
   ]
  },
  {
   "cell_type": "markdown",
   "id": "c2a3fd7f-b8b7-473d-a0e6-edd852005513",
   "metadata": {},
   "source": [
    "---\n",
    "\n",
    "- **Step 2:** *Analyze the 10 people with the highest CLTV in 1 month and the 10 people with the highest CLTV in 12 months.*\n",
    "\n",
    "  - (**Adım 2:** *1 aylık CLTV'de en yüksek olan 10 kişi ile 12 aylık'taki en yüksek 10 kişiyi analiz ediniz*)\n",
    "\n",
    "---"
   ]
  },
  {
   "cell_type": "code",
   "execution_count": 147,
   "id": "3b115577-c9ca-4d55-a6b9-ad5dde2d3d3c",
   "metadata": {},
   "outputs": [
    {
     "data": {
      "text/html": [
       "<div>\n",
       "<style scoped>\n",
       "    .dataframe tbody tr th:only-of-type {\n",
       "        vertical-align: middle;\n",
       "    }\n",
       "\n",
       "    .dataframe tbody tr th {\n",
       "        vertical-align: top;\n",
       "    }\n",
       "\n",
       "    .dataframe thead th {\n",
       "        text-align: right;\n",
       "    }\n",
       "</style>\n",
       "<table border=\"1\" class=\"dataframe\">\n",
       "  <thead>\n",
       "    <tr style=\"text-align: right;\">\n",
       "      <th></th>\n",
       "      <th>Customer ID</th>\n",
       "      <th>recency</th>\n",
       "      <th>T</th>\n",
       "      <th>frequency</th>\n",
       "      <th>monetary</th>\n",
       "      <th>clv</th>\n",
       "    </tr>\n",
       "  </thead>\n",
       "  <tbody>\n",
       "    <tr>\n",
       "      <th>2486</th>\n",
       "      <td>18102.000</td>\n",
       "      <td>52.286</td>\n",
       "      <td>52.571</td>\n",
       "      <td>60</td>\n",
       "      <td>3859.739</td>\n",
       "      <td>16025.707</td>\n",
       "    </tr>\n",
       "    <tr>\n",
       "      <th>589</th>\n",
       "      <td>14096.000</td>\n",
       "      <td>13.857</td>\n",
       "      <td>14.571</td>\n",
       "      <td>17</td>\n",
       "      <td>3163.588</td>\n",
       "      <td>9869.301</td>\n",
       "    </tr>\n",
       "    <tr>\n",
       "      <th>2184</th>\n",
       "      <td>17450.000</td>\n",
       "      <td>51.286</td>\n",
       "      <td>52.571</td>\n",
       "      <td>46</td>\n",
       "      <td>2863.275</td>\n",
       "      <td>9184.277</td>\n",
       "    </tr>\n",
       "    <tr>\n",
       "      <th>2213</th>\n",
       "      <td>17511.000</td>\n",
       "      <td>52.857</td>\n",
       "      <td>53.429</td>\n",
       "      <td>31</td>\n",
       "      <td>2933.943</td>\n",
       "      <td>6420.410</td>\n",
       "    </tr>\n",
       "    <tr>\n",
       "      <th>1804</th>\n",
       "      <td>16684.000</td>\n",
       "      <td>50.429</td>\n",
       "      <td>51.286</td>\n",
       "      <td>28</td>\n",
       "      <td>2209.969</td>\n",
       "      <td>4545.907</td>\n",
       "    </tr>\n",
       "    <tr>\n",
       "      <th>406</th>\n",
       "      <td>13694.000</td>\n",
       "      <td>52.714</td>\n",
       "      <td>53.429</td>\n",
       "      <td>50</td>\n",
       "      <td>1275.700</td>\n",
       "      <td>4382.993</td>\n",
       "    </tr>\n",
       "    <tr>\n",
       "      <th>1485</th>\n",
       "      <td>16000.000</td>\n",
       "      <td>0.000</td>\n",
       "      <td>0.429</td>\n",
       "      <td>3</td>\n",
       "      <td>2335.120</td>\n",
       "      <td>4365.549</td>\n",
       "    </tr>\n",
       "    <tr>\n",
       "      <th>587</th>\n",
       "      <td>14088.000</td>\n",
       "      <td>44.571</td>\n",
       "      <td>46.143</td>\n",
       "      <td>13</td>\n",
       "      <td>3864.555</td>\n",
       "      <td>4361.008</td>\n",
       "    </tr>\n",
       "    <tr>\n",
       "      <th>1173</th>\n",
       "      <td>15311.000</td>\n",
       "      <td>53.286</td>\n",
       "      <td>53.429</td>\n",
       "      <td>91</td>\n",
       "      <td>667.779</td>\n",
       "      <td>4099.863</td>\n",
       "    </tr>\n",
       "    <tr>\n",
       "      <th>133</th>\n",
       "      <td>13089.000</td>\n",
       "      <td>52.286</td>\n",
       "      <td>52.857</td>\n",
       "      <td>97</td>\n",
       "      <td>606.362</td>\n",
       "      <td>3991.668</td>\n",
       "    </tr>\n",
       "  </tbody>\n",
       "</table>\n",
       "</div>"
      ],
      "text/plain": [
       "      Customer ID  recency      T  frequency  monetary       clv\n",
       "2486    18102.000   52.286 52.571         60  3859.739 16025.707\n",
       "589     14096.000   13.857 14.571         17  3163.588  9869.301\n",
       "2184    17450.000   51.286 52.571         46  2863.275  9184.277\n",
       "2213    17511.000   52.857 53.429         31  2933.943  6420.410\n",
       "1804    16684.000   50.429 51.286         28  2209.969  4545.907\n",
       "406     13694.000   52.714 53.429         50  1275.700  4382.993\n",
       "1485    16000.000    0.000  0.429          3  2335.120  4365.549\n",
       "587     14088.000   44.571 46.143         13  3864.555  4361.008\n",
       "1173    15311.000   53.286 53.429         91   667.779  4099.863\n",
       "133     13089.000   52.286 52.857         97   606.362  3991.668"
      ]
     },
     "execution_count": 147,
     "metadata": {},
     "output_type": "execute_result"
    }
   ],
   "source": [
    "cltv_1_month_final.sort_values(by='clv', ascending=False).head(10)"
   ]
  },
  {
   "cell_type": "code",
   "execution_count": 148,
   "id": "cc41d825-aa93-41b9-9937-af4e8ac65b49",
   "metadata": {},
   "outputs": [
    {
     "data": {
      "text/html": [
       "<div>\n",
       "<style scoped>\n",
       "    .dataframe tbody tr th:only-of-type {\n",
       "        vertical-align: middle;\n",
       "    }\n",
       "\n",
       "    .dataframe tbody tr th {\n",
       "        vertical-align: top;\n",
       "    }\n",
       "\n",
       "    .dataframe thead th {\n",
       "        text-align: right;\n",
       "    }\n",
       "</style>\n",
       "<table border=\"1\" class=\"dataframe\">\n",
       "  <thead>\n",
       "    <tr style=\"text-align: right;\">\n",
       "      <th></th>\n",
       "      <th>count</th>\n",
       "      <th>mean</th>\n",
       "      <th>std</th>\n",
       "      <th>min</th>\n",
       "      <th>5%</th>\n",
       "      <th>25%</th>\n",
       "      <th>50%</th>\n",
       "      <th>60%</th>\n",
       "      <th>70%</th>\n",
       "      <th>75%</th>\n",
       "      <th>80%</th>\n",
       "      <th>85%</th>\n",
       "      <th>90%</th>\n",
       "      <th>95%</th>\n",
       "      <th>99%</th>\n",
       "      <th>max</th>\n",
       "    </tr>\n",
       "  </thead>\n",
       "  <tbody>\n",
       "    <tr>\n",
       "      <th>Customer ID</th>\n",
       "      <td>10.000</td>\n",
       "      <td>15602.500</td>\n",
       "      <td>1802.438</td>\n",
       "      <td>13089.000</td>\n",
       "      <td>13361.250</td>\n",
       "      <td>14090.000</td>\n",
       "      <td>15655.500</td>\n",
       "      <td>16273.600</td>\n",
       "      <td>16913.800</td>\n",
       "      <td>17258.500</td>\n",
       "      <td>17462.200</td>\n",
       "      <td>17489.650</td>\n",
       "      <td>17570.100</td>\n",
       "      <td>17836.050</td>\n",
       "      <td>18048.810</td>\n",
       "      <td>18102.000</td>\n",
       "    </tr>\n",
       "    <tr>\n",
       "      <th>recency</th>\n",
       "      <td>10.000</td>\n",
       "      <td>42.357</td>\n",
       "      <td>19.120</td>\n",
       "      <td>0.000</td>\n",
       "      <td>6.236</td>\n",
       "      <td>46.036</td>\n",
       "      <td>51.786</td>\n",
       "      <td>52.286</td>\n",
       "      <td>52.414</td>\n",
       "      <td>52.607</td>\n",
       "      <td>52.743</td>\n",
       "      <td>52.807</td>\n",
       "      <td>52.900</td>\n",
       "      <td>53.093</td>\n",
       "      <td>53.247</td>\n",
       "      <td>53.286</td>\n",
       "    </tr>\n",
       "    <tr>\n",
       "      <th>T</th>\n",
       "      <td>10.000</td>\n",
       "      <td>43.071</td>\n",
       "      <td>19.165</td>\n",
       "      <td>0.429</td>\n",
       "      <td>6.793</td>\n",
       "      <td>47.429</td>\n",
       "      <td>52.571</td>\n",
       "      <td>52.686</td>\n",
       "      <td>53.029</td>\n",
       "      <td>53.286</td>\n",
       "      <td>53.429</td>\n",
       "      <td>53.429</td>\n",
       "      <td>53.429</td>\n",
       "      <td>53.429</td>\n",
       "      <td>53.429</td>\n",
       "      <td>53.429</td>\n",
       "    </tr>\n",
       "    <tr>\n",
       "      <th>frequency</th>\n",
       "      <td>10.000</td>\n",
       "      <td>43.600</td>\n",
       "      <td>31.813</td>\n",
       "      <td>3.000</td>\n",
       "      <td>7.500</td>\n",
       "      <td>19.750</td>\n",
       "      <td>38.500</td>\n",
       "      <td>47.600</td>\n",
       "      <td>53.000</td>\n",
       "      <td>57.500</td>\n",
       "      <td>66.200</td>\n",
       "      <td>80.150</td>\n",
       "      <td>91.600</td>\n",
       "      <td>94.300</td>\n",
       "      <td>96.460</td>\n",
       "      <td>97.000</td>\n",
       "    </tr>\n",
       "    <tr>\n",
       "      <th>monetary</th>\n",
       "      <td>10.000</td>\n",
       "      <td>2378.003</td>\n",
       "      <td>1196.096</td>\n",
       "      <td>606.362</td>\n",
       "      <td>634.000</td>\n",
       "      <td>1509.268</td>\n",
       "      <td>2599.197</td>\n",
       "      <td>2891.542</td>\n",
       "      <td>3002.837</td>\n",
       "      <td>3106.177</td>\n",
       "      <td>3302.818</td>\n",
       "      <td>3616.086</td>\n",
       "      <td>3860.221</td>\n",
       "      <td>3862.388</td>\n",
       "      <td>3864.121</td>\n",
       "      <td>3864.555</td>\n",
       "    </tr>\n",
       "    <tr>\n",
       "      <th>clv</th>\n",
       "      <td>10.000</td>\n",
       "      <td>6724.668</td>\n",
       "      <td>3919.778</td>\n",
       "      <td>3991.668</td>\n",
       "      <td>4040.356</td>\n",
       "      <td>4362.144</td>\n",
       "      <td>4464.450</td>\n",
       "      <td>5295.708</td>\n",
       "      <td>7249.570</td>\n",
       "      <td>8493.310</td>\n",
       "      <td>9321.282</td>\n",
       "      <td>9629.543</td>\n",
       "      <td>10484.942</td>\n",
       "      <td>13255.324</td>\n",
       "      <td>15471.630</td>\n",
       "      <td>16025.707</td>\n",
       "    </tr>\n",
       "  </tbody>\n",
       "</table>\n",
       "</div>"
      ],
      "text/plain": [
       "             count      mean      std       min        5%       25%       50%       60%       70%       75%       80%       85%       90%       95%       99%       max\n",
       "Customer ID 10.000 15602.500 1802.438 13089.000 13361.250 14090.000 15655.500 16273.600 16913.800 17258.500 17462.200 17489.650 17570.100 17836.050 18048.810 18102.000\n",
       "recency     10.000    42.357   19.120     0.000     6.236    46.036    51.786    52.286    52.414    52.607    52.743    52.807    52.900    53.093    53.247    53.286\n",
       "T           10.000    43.071   19.165     0.429     6.793    47.429    52.571    52.686    53.029    53.286    53.429    53.429    53.429    53.429    53.429    53.429\n",
       "frequency   10.000    43.600   31.813     3.000     7.500    19.750    38.500    47.600    53.000    57.500    66.200    80.150    91.600    94.300    96.460    97.000\n",
       "monetary    10.000  2378.003 1196.096   606.362   634.000  1509.268  2599.197  2891.542  3002.837  3106.177  3302.818  3616.086  3860.221  3862.388  3864.121  3864.555\n",
       "clv         10.000  6724.668 3919.778  3991.668  4040.356  4362.144  4464.450  5295.708  7249.570  8493.310  9321.282  9629.543 10484.942 13255.324 15471.630 16025.707"
      ]
     },
     "execution_count": 148,
     "metadata": {},
     "output_type": "execute_result"
    }
   ],
   "source": [
    "cltv_1_month_final.sort_values(by='clv', ascending=False).head(10).describe([0.05, 0.25, 0.50, 0.60, 0.70, 0.75, 0.80, 0.85, 0.90, 0.95, 0.99]).T"
   ]
  },
  {
   "cell_type": "code",
   "execution_count": 149,
   "id": "2bd09884-aeb2-4f6f-aedd-f6cc22928cc6",
   "metadata": {},
   "outputs": [
    {
     "data": {
      "text/html": [
       "<div>\n",
       "<style scoped>\n",
       "    .dataframe tbody tr th:only-of-type {\n",
       "        vertical-align: middle;\n",
       "    }\n",
       "\n",
       "    .dataframe tbody tr th {\n",
       "        vertical-align: top;\n",
       "    }\n",
       "\n",
       "    .dataframe thead th {\n",
       "        text-align: right;\n",
       "    }\n",
       "</style>\n",
       "<table border=\"1\" class=\"dataframe\">\n",
       "  <thead>\n",
       "    <tr style=\"text-align: right;\">\n",
       "      <th></th>\n",
       "      <th>Customer ID</th>\n",
       "      <th>recency</th>\n",
       "      <th>T</th>\n",
       "      <th>frequency</th>\n",
       "      <th>monetary</th>\n",
       "      <th>clv</th>\n",
       "    </tr>\n",
       "  </thead>\n",
       "  <tbody>\n",
       "    <tr>\n",
       "      <th>2486</th>\n",
       "      <td>18102.000</td>\n",
       "      <td>52.286</td>\n",
       "      <td>52.571</td>\n",
       "      <td>60</td>\n",
       "      <td>3859.739</td>\n",
       "      <td>176129.037</td>\n",
       "    </tr>\n",
       "    <tr>\n",
       "      <th>589</th>\n",
       "      <td>14096.000</td>\n",
       "      <td>13.857</td>\n",
       "      <td>14.571</td>\n",
       "      <td>17</td>\n",
       "      <td>3163.588</td>\n",
       "      <td>105044.445</td>\n",
       "    </tr>\n",
       "    <tr>\n",
       "      <th>2184</th>\n",
       "      <td>17450.000</td>\n",
       "      <td>51.286</td>\n",
       "      <td>52.571</td>\n",
       "      <td>46</td>\n",
       "      <td>2863.275</td>\n",
       "      <td>100931.572</td>\n",
       "    </tr>\n",
       "    <tr>\n",
       "      <th>2213</th>\n",
       "      <td>17511.000</td>\n",
       "      <td>52.857</td>\n",
       "      <td>53.429</td>\n",
       "      <td>31</td>\n",
       "      <td>2933.943</td>\n",
       "      <td>70572.714</td>\n",
       "    </tr>\n",
       "    <tr>\n",
       "      <th>1804</th>\n",
       "      <td>16684.000</td>\n",
       "      <td>50.429</td>\n",
       "      <td>51.286</td>\n",
       "      <td>28</td>\n",
       "      <td>2209.969</td>\n",
       "      <td>49920.554</td>\n",
       "    </tr>\n",
       "    <tr>\n",
       "      <th>406</th>\n",
       "      <td>13694.000</td>\n",
       "      <td>52.714</td>\n",
       "      <td>53.429</td>\n",
       "      <td>50</td>\n",
       "      <td>1275.700</td>\n",
       "      <td>48185.724</td>\n",
       "    </tr>\n",
       "    <tr>\n",
       "      <th>587</th>\n",
       "      <td>14088.000</td>\n",
       "      <td>44.571</td>\n",
       "      <td>46.143</td>\n",
       "      <td>13</td>\n",
       "      <td>3864.555</td>\n",
       "      <td>47749.579</td>\n",
       "    </tr>\n",
       "    <tr>\n",
       "      <th>1173</th>\n",
       "      <td>15311.000</td>\n",
       "      <td>53.286</td>\n",
       "      <td>53.429</td>\n",
       "      <td>91</td>\n",
       "      <td>667.779</td>\n",
       "      <td>45078.950</td>\n",
       "    </tr>\n",
       "    <tr>\n",
       "      <th>1485</th>\n",
       "      <td>16000.000</td>\n",
       "      <td>0.000</td>\n",
       "      <td>0.429</td>\n",
       "      <td>3</td>\n",
       "      <td>2335.120</td>\n",
       "      <td>44563.162</td>\n",
       "    </tr>\n",
       "    <tr>\n",
       "      <th>133</th>\n",
       "      <td>13089.000</td>\n",
       "      <td>52.286</td>\n",
       "      <td>52.857</td>\n",
       "      <td>97</td>\n",
       "      <td>606.362</td>\n",
       "      <td>43879.417</td>\n",
       "    </tr>\n",
       "  </tbody>\n",
       "</table>\n",
       "</div>"
      ],
      "text/plain": [
       "      Customer ID  recency      T  frequency  monetary        clv\n",
       "2486    18102.000   52.286 52.571         60  3859.739 176129.037\n",
       "589     14096.000   13.857 14.571         17  3163.588 105044.445\n",
       "2184    17450.000   51.286 52.571         46  2863.275 100931.572\n",
       "2213    17511.000   52.857 53.429         31  2933.943  70572.714\n",
       "1804    16684.000   50.429 51.286         28  2209.969  49920.554\n",
       "406     13694.000   52.714 53.429         50  1275.700  48185.724\n",
       "587     14088.000   44.571 46.143         13  3864.555  47749.579\n",
       "1173    15311.000   53.286 53.429         91   667.779  45078.950\n",
       "1485    16000.000    0.000  0.429          3  2335.120  44563.162\n",
       "133     13089.000   52.286 52.857         97   606.362  43879.417"
      ]
     },
     "execution_count": 149,
     "metadata": {},
     "output_type": "execute_result"
    }
   ],
   "source": [
    "cltv_12_month_final.sort_values(by='clv', ascending=False).head(10)"
   ]
  },
  {
   "cell_type": "code",
   "execution_count": 150,
   "id": "c1f19b14-add8-4232-ac53-d7915fc2d2b7",
   "metadata": {},
   "outputs": [
    {
     "data": {
      "text/html": [
       "<div>\n",
       "<style scoped>\n",
       "    .dataframe tbody tr th:only-of-type {\n",
       "        vertical-align: middle;\n",
       "    }\n",
       "\n",
       "    .dataframe tbody tr th {\n",
       "        vertical-align: top;\n",
       "    }\n",
       "\n",
       "    .dataframe thead th {\n",
       "        text-align: right;\n",
       "    }\n",
       "</style>\n",
       "<table border=\"1\" class=\"dataframe\">\n",
       "  <thead>\n",
       "    <tr style=\"text-align: right;\">\n",
       "      <th></th>\n",
       "      <th>count</th>\n",
       "      <th>mean</th>\n",
       "      <th>std</th>\n",
       "      <th>min</th>\n",
       "      <th>5%</th>\n",
       "      <th>25%</th>\n",
       "      <th>50%</th>\n",
       "      <th>60%</th>\n",
       "      <th>70%</th>\n",
       "      <th>75%</th>\n",
       "      <th>80%</th>\n",
       "      <th>85%</th>\n",
       "      <th>90%</th>\n",
       "      <th>95%</th>\n",
       "      <th>99%</th>\n",
       "      <th>max</th>\n",
       "    </tr>\n",
       "  </thead>\n",
       "  <tbody>\n",
       "    <tr>\n",
       "      <th>Customer ID</th>\n",
       "      <td>10.000</td>\n",
       "      <td>15602.500</td>\n",
       "      <td>1802.438</td>\n",
       "      <td>13089.000</td>\n",
       "      <td>13361.250</td>\n",
       "      <td>14090.000</td>\n",
       "      <td>15655.500</td>\n",
       "      <td>16273.600</td>\n",
       "      <td>16913.800</td>\n",
       "      <td>17258.500</td>\n",
       "      <td>17462.200</td>\n",
       "      <td>17489.650</td>\n",
       "      <td>17570.100</td>\n",
       "      <td>17836.050</td>\n",
       "      <td>18048.810</td>\n",
       "      <td>18102.000</td>\n",
       "    </tr>\n",
       "    <tr>\n",
       "      <th>recency</th>\n",
       "      <td>10.000</td>\n",
       "      <td>42.357</td>\n",
       "      <td>19.120</td>\n",
       "      <td>0.000</td>\n",
       "      <td>6.236</td>\n",
       "      <td>46.036</td>\n",
       "      <td>51.786</td>\n",
       "      <td>52.286</td>\n",
       "      <td>52.414</td>\n",
       "      <td>52.607</td>\n",
       "      <td>52.743</td>\n",
       "      <td>52.807</td>\n",
       "      <td>52.900</td>\n",
       "      <td>53.093</td>\n",
       "      <td>53.247</td>\n",
       "      <td>53.286</td>\n",
       "    </tr>\n",
       "    <tr>\n",
       "      <th>T</th>\n",
       "      <td>10.000</td>\n",
       "      <td>43.071</td>\n",
       "      <td>19.165</td>\n",
       "      <td>0.429</td>\n",
       "      <td>6.793</td>\n",
       "      <td>47.429</td>\n",
       "      <td>52.571</td>\n",
       "      <td>52.686</td>\n",
       "      <td>53.029</td>\n",
       "      <td>53.286</td>\n",
       "      <td>53.429</td>\n",
       "      <td>53.429</td>\n",
       "      <td>53.429</td>\n",
       "      <td>53.429</td>\n",
       "      <td>53.429</td>\n",
       "      <td>53.429</td>\n",
       "    </tr>\n",
       "    <tr>\n",
       "      <th>frequency</th>\n",
       "      <td>10.000</td>\n",
       "      <td>43.600</td>\n",
       "      <td>31.813</td>\n",
       "      <td>3.000</td>\n",
       "      <td>7.500</td>\n",
       "      <td>19.750</td>\n",
       "      <td>38.500</td>\n",
       "      <td>47.600</td>\n",
       "      <td>53.000</td>\n",
       "      <td>57.500</td>\n",
       "      <td>66.200</td>\n",
       "      <td>80.150</td>\n",
       "      <td>91.600</td>\n",
       "      <td>94.300</td>\n",
       "      <td>96.460</td>\n",
       "      <td>97.000</td>\n",
       "    </tr>\n",
       "    <tr>\n",
       "      <th>monetary</th>\n",
       "      <td>10.000</td>\n",
       "      <td>2378.003</td>\n",
       "      <td>1196.096</td>\n",
       "      <td>606.362</td>\n",
       "      <td>634.000</td>\n",
       "      <td>1509.268</td>\n",
       "      <td>2599.197</td>\n",
       "      <td>2891.542</td>\n",
       "      <td>3002.837</td>\n",
       "      <td>3106.177</td>\n",
       "      <td>3302.818</td>\n",
       "      <td>3616.086</td>\n",
       "      <td>3860.221</td>\n",
       "      <td>3862.388</td>\n",
       "      <td>3864.121</td>\n",
       "      <td>3864.555</td>\n",
       "    </tr>\n",
       "    <tr>\n",
       "      <th>clv</th>\n",
       "      <td>10.000</td>\n",
       "      <td>73205.515</td>\n",
       "      <td>43037.873</td>\n",
       "      <td>43879.417</td>\n",
       "      <td>44187.102</td>\n",
       "      <td>45746.607</td>\n",
       "      <td>49053.139</td>\n",
       "      <td>58181.418</td>\n",
       "      <td>79680.371</td>\n",
       "      <td>93341.857</td>\n",
       "      <td>101754.146</td>\n",
       "      <td>103604.939</td>\n",
       "      <td>112152.904</td>\n",
       "      <td>144140.971</td>\n",
       "      <td>169731.424</td>\n",
       "      <td>176129.037</td>\n",
       "    </tr>\n",
       "  </tbody>\n",
       "</table>\n",
       "</div>"
      ],
      "text/plain": [
       "             count      mean       std       min        5%       25%       50%       60%       70%       75%        80%        85%        90%        95%        99%        max\n",
       "Customer ID 10.000 15602.500  1802.438 13089.000 13361.250 14090.000 15655.500 16273.600 16913.800 17258.500  17462.200  17489.650  17570.100  17836.050  18048.810  18102.000\n",
       "recency     10.000    42.357    19.120     0.000     6.236    46.036    51.786    52.286    52.414    52.607     52.743     52.807     52.900     53.093     53.247     53.286\n",
       "T           10.000    43.071    19.165     0.429     6.793    47.429    52.571    52.686    53.029    53.286     53.429     53.429     53.429     53.429     53.429     53.429\n",
       "frequency   10.000    43.600    31.813     3.000     7.500    19.750    38.500    47.600    53.000    57.500     66.200     80.150     91.600     94.300     96.460     97.000\n",
       "monetary    10.000  2378.003  1196.096   606.362   634.000  1509.268  2599.197  2891.542  3002.837  3106.177   3302.818   3616.086   3860.221   3862.388   3864.121   3864.555\n",
       "clv         10.000 73205.515 43037.873 43879.417 44187.102 45746.607 49053.139 58181.418 79680.371 93341.857 101754.146 103604.939 112152.904 144140.971 169731.424 176129.037"
      ]
     },
     "execution_count": 150,
     "metadata": {},
     "output_type": "execute_result"
    }
   ],
   "source": [
    "cltv_12_month_final.sort_values(by='clv', ascending=False).head(10).describe([0.05, 0.25, 0.50, 0.60, 0.70, 0.75, 0.80, 0.85, 0.90, 0.95, 0.99]).T"
   ]
  },
  {
   "cell_type": "markdown",
   "id": "fe180157-5a11-46c3-9363-6988bc72311c",
   "metadata": {},
   "source": [
    "### 3. Task (3. Görev): Segmentation and Action Recommendations (Segmentasyon ve Aksiyon Önerileri)\n",
    "\n",
    "---\n",
    "\n",
    "- **Step 1:** *For 2010-2011 UK customers, divide all your customers into 4 groups (segments) according to 6-month CLTV and add the group names to the data set.*\n",
    "\n",
    "  - (**Adım 1:** *2010-2011 UK müşterileri için 6 aylık CLTV'ye göre tüm müşterilerinizi 4 gruba (segmente) ayırınız ve grup isimlerini veri setine  ekleyiniz.*)\n",
    " \n",
    "---"
   ]
  },
  {
   "cell_type": "code",
   "execution_count": 151,
   "id": "f21d5795-226d-4166-9e81-59b4acb2f4c6",
   "metadata": {},
   "outputs": [],
   "source": [
    "cltv_6_month_final['segment'] = pd.qcut(cltv_6_month_final['clv'], 4, labels = ['D', 'C', 'B', 'A'])"
   ]
  },
  {
   "cell_type": "code",
   "execution_count": 152,
   "id": "dad50402-0874-4834-ae56-1c5c52a57d78",
   "metadata": {},
   "outputs": [
    {
     "data": {
      "text/html": [
       "<div>\n",
       "<style scoped>\n",
       "    .dataframe tbody tr th:only-of-type {\n",
       "        vertical-align: middle;\n",
       "    }\n",
       "\n",
       "    .dataframe tbody tr th {\n",
       "        vertical-align: top;\n",
       "    }\n",
       "\n",
       "    .dataframe thead th {\n",
       "        text-align: right;\n",
       "    }\n",
       "</style>\n",
       "<table border=\"1\" class=\"dataframe\">\n",
       "  <thead>\n",
       "    <tr style=\"text-align: right;\">\n",
       "      <th></th>\n",
       "      <th>Customer ID</th>\n",
       "      <th>recency</th>\n",
       "      <th>T</th>\n",
       "      <th>frequency</th>\n",
       "      <th>monetary</th>\n",
       "      <th>clv</th>\n",
       "      <th>segment</th>\n",
       "    </tr>\n",
       "  </thead>\n",
       "  <tbody>\n",
       "    <tr>\n",
       "      <th>2486</th>\n",
       "      <td>18102.000</td>\n",
       "      <td>52.286</td>\n",
       "      <td>52.571</td>\n",
       "      <td>60</td>\n",
       "      <td>3859.739</td>\n",
       "      <td>92215.234</td>\n",
       "      <td>A</td>\n",
       "    </tr>\n",
       "    <tr>\n",
       "      <th>589</th>\n",
       "      <td>14096.000</td>\n",
       "      <td>13.857</td>\n",
       "      <td>14.571</td>\n",
       "      <td>17</td>\n",
       "      <td>3163.588</td>\n",
       "      <td>55726.778</td>\n",
       "      <td>A</td>\n",
       "    </tr>\n",
       "    <tr>\n",
       "      <th>2184</th>\n",
       "      <td>17450.000</td>\n",
       "      <td>51.286</td>\n",
       "      <td>52.571</td>\n",
       "      <td>46</td>\n",
       "      <td>2863.275</td>\n",
       "      <td>52846.108</td>\n",
       "      <td>A</td>\n",
       "    </tr>\n",
       "    <tr>\n",
       "      <th>2213</th>\n",
       "      <td>17511.000</td>\n",
       "      <td>52.857</td>\n",
       "      <td>53.429</td>\n",
       "      <td>31</td>\n",
       "      <td>2933.943</td>\n",
       "      <td>36947.208</td>\n",
       "      <td>A</td>\n",
       "    </tr>\n",
       "    <tr>\n",
       "      <th>1804</th>\n",
       "      <td>16684.000</td>\n",
       "      <td>50.429</td>\n",
       "      <td>51.286</td>\n",
       "      <td>28</td>\n",
       "      <td>2209.969</td>\n",
       "      <td>26146.294</td>\n",
       "      <td>A</td>\n",
       "    </tr>\n",
       "    <tr>\n",
       "      <th>406</th>\n",
       "      <td>13694.000</td>\n",
       "      <td>52.714</td>\n",
       "      <td>53.429</td>\n",
       "      <td>50</td>\n",
       "      <td>1275.700</td>\n",
       "      <td>25224.935</td>\n",
       "      <td>A</td>\n",
       "    </tr>\n",
       "    <tr>\n",
       "      <th>587</th>\n",
       "      <td>14088.000</td>\n",
       "      <td>44.571</td>\n",
       "      <td>46.143</td>\n",
       "      <td>13</td>\n",
       "      <td>3864.555</td>\n",
       "      <td>25041.839</td>\n",
       "      <td>A</td>\n",
       "    </tr>\n",
       "    <tr>\n",
       "      <th>1485</th>\n",
       "      <td>16000.000</td>\n",
       "      <td>0.000</td>\n",
       "      <td>0.429</td>\n",
       "      <td>3</td>\n",
       "      <td>2335.120</td>\n",
       "      <td>23975.522</td>\n",
       "      <td>A</td>\n",
       "    </tr>\n",
       "    <tr>\n",
       "      <th>1173</th>\n",
       "      <td>15311.000</td>\n",
       "      <td>53.286</td>\n",
       "      <td>53.429</td>\n",
       "      <td>91</td>\n",
       "      <td>667.779</td>\n",
       "      <td>23597.165</td>\n",
       "      <td>A</td>\n",
       "    </tr>\n",
       "    <tr>\n",
       "      <th>133</th>\n",
       "      <td>13089.000</td>\n",
       "      <td>52.286</td>\n",
       "      <td>52.857</td>\n",
       "      <td>97</td>\n",
       "      <td>606.362</td>\n",
       "      <td>22971.584</td>\n",
       "      <td>A</td>\n",
       "    </tr>\n",
       "  </tbody>\n",
       "</table>\n",
       "</div>"
      ],
      "text/plain": [
       "      Customer ID  recency      T  frequency  monetary       clv segment\n",
       "2486    18102.000   52.286 52.571         60  3859.739 92215.234       A\n",
       "589     14096.000   13.857 14.571         17  3163.588 55726.778       A\n",
       "2184    17450.000   51.286 52.571         46  2863.275 52846.108       A\n",
       "2213    17511.000   52.857 53.429         31  2933.943 36947.208       A\n",
       "1804    16684.000   50.429 51.286         28  2209.969 26146.294       A\n",
       "406     13694.000   52.714 53.429         50  1275.700 25224.935       A\n",
       "587     14088.000   44.571 46.143         13  3864.555 25041.839       A\n",
       "1485    16000.000    0.000  0.429          3  2335.120 23975.522       A\n",
       "1173    15311.000   53.286 53.429         91   667.779 23597.165       A\n",
       "133     13089.000   52.286 52.857         97   606.362 22971.584       A"
      ]
     },
     "execution_count": 152,
     "metadata": {},
     "output_type": "execute_result"
    }
   ],
   "source": [
    "cltv_6_month_final.sort_values(by='clv', ascending=False).head(10)"
   ]
  },
  {
   "cell_type": "code",
   "execution_count": 161,
   "id": "5cac909a-730d-442f-8440-631a3b15d27b",
   "metadata": {},
   "outputs": [
    {
     "data": {
      "text/html": [
       "<div>\n",
       "<style scoped>\n",
       "    .dataframe tbody tr th:only-of-type {\n",
       "        vertical-align: middle;\n",
       "    }\n",
       "\n",
       "    .dataframe tbody tr th {\n",
       "        vertical-align: top;\n",
       "    }\n",
       "\n",
       "    .dataframe thead tr th {\n",
       "        text-align: left;\n",
       "    }\n",
       "\n",
       "    .dataframe thead tr:last-of-type th {\n",
       "        text-align: right;\n",
       "    }\n",
       "</style>\n",
       "<table border=\"1\" class=\"dataframe\">\n",
       "  <thead>\n",
       "    <tr>\n",
       "      <th></th>\n",
       "      <th colspan=\"3\" halign=\"left\">recency</th>\n",
       "      <th colspan=\"3\" halign=\"left\">T</th>\n",
       "      <th colspan=\"3\" halign=\"left\">frequency</th>\n",
       "      <th colspan=\"3\" halign=\"left\">monetary</th>\n",
       "      <th colspan=\"3\" halign=\"left\">clv</th>\n",
       "    </tr>\n",
       "    <tr>\n",
       "      <th></th>\n",
       "      <th>sum</th>\n",
       "      <th>count</th>\n",
       "      <th>mean</th>\n",
       "      <th>sum</th>\n",
       "      <th>count</th>\n",
       "      <th>mean</th>\n",
       "      <th>sum</th>\n",
       "      <th>count</th>\n",
       "      <th>mean</th>\n",
       "      <th>sum</th>\n",
       "      <th>count</th>\n",
       "      <th>mean</th>\n",
       "      <th>sum</th>\n",
       "      <th>count</th>\n",
       "      <th>mean</th>\n",
       "    </tr>\n",
       "    <tr>\n",
       "      <th>segment</th>\n",
       "      <th></th>\n",
       "      <th></th>\n",
       "      <th></th>\n",
       "      <th></th>\n",
       "      <th></th>\n",
       "      <th></th>\n",
       "      <th></th>\n",
       "      <th></th>\n",
       "      <th></th>\n",
       "      <th></th>\n",
       "      <th></th>\n",
       "      <th></th>\n",
       "      <th></th>\n",
       "      <th></th>\n",
       "      <th></th>\n",
       "    </tr>\n",
       "  </thead>\n",
       "  <tbody>\n",
       "    <tr>\n",
       "      <th>D</th>\n",
       "      <td>14191.000</td>\n",
       "      <td>643</td>\n",
       "      <td>22.070</td>\n",
       "      <td>26077.429</td>\n",
       "      <td>643</td>\n",
       "      <td>40.556</td>\n",
       "      <td>1973</td>\n",
       "      <td>643</td>\n",
       "      <td>3.068</td>\n",
       "      <td>115025.751</td>\n",
       "      <td>643</td>\n",
       "      <td>178.889</td>\n",
       "      <td>173965.218</td>\n",
       "      <td>643</td>\n",
       "      <td>270.552</td>\n",
       "    </tr>\n",
       "    <tr>\n",
       "      <th>C</th>\n",
       "      <td>19795.143</td>\n",
       "      <td>642</td>\n",
       "      <td>30.834</td>\n",
       "      <td>24472.143</td>\n",
       "      <td>642</td>\n",
       "      <td>38.119</td>\n",
       "      <td>2561</td>\n",
       "      <td>642</td>\n",
       "      <td>3.989</td>\n",
       "      <td>167392.179</td>\n",
       "      <td>642</td>\n",
       "      <td>260.735</td>\n",
       "      <td>457462.576</td>\n",
       "      <td>642</td>\n",
       "      <td>712.559</td>\n",
       "    </tr>\n",
       "    <tr>\n",
       "      <th>B</th>\n",
       "      <td>19166.286</td>\n",
       "      <td>642</td>\n",
       "      <td>29.854</td>\n",
       "      <td>22551.571</td>\n",
       "      <td>642</td>\n",
       "      <td>35.127</td>\n",
       "      <td>3504</td>\n",
       "      <td>642</td>\n",
       "      <td>5.458</td>\n",
       "      <td>226502.355</td>\n",
       "      <td>642</td>\n",
       "      <td>352.807</td>\n",
       "      <td>818080.289</td>\n",
       "      <td>642</td>\n",
       "      <td>1274.268</td>\n",
       "    </tr>\n",
       "    <tr>\n",
       "      <th>A</th>\n",
       "      <td>20219.429</td>\n",
       "      <td>643</td>\n",
       "      <td>31.445</td>\n",
       "      <td>22189.429</td>\n",
       "      <td>643</td>\n",
       "      <td>34.509</td>\n",
       "      <td>7258</td>\n",
       "      <td>643</td>\n",
       "      <td>11.288</td>\n",
       "      <td>380377.590</td>\n",
       "      <td>643</td>\n",
       "      <td>591.567</td>\n",
       "      <td>2477738.995</td>\n",
       "      <td>643</td>\n",
       "      <td>3853.404</td>\n",
       "    </tr>\n",
       "  </tbody>\n",
       "</table>\n",
       "</div>"
      ],
      "text/plain": [
       "          recency                      T              frequency                monetary                       clv               \n",
       "              sum count   mean       sum count   mean       sum count   mean        sum count    mean         sum count     mean\n",
       "segment                                                                                                                         \n",
       "D       14191.000   643 22.070 26077.429   643 40.556      1973   643  3.068 115025.751   643 178.889  173965.218   643  270.552\n",
       "C       19795.143   642 30.834 24472.143   642 38.119      2561   642  3.989 167392.179   642 260.735  457462.576   642  712.559\n",
       "B       19166.286   642 29.854 22551.571   642 35.127      3504   642  5.458 226502.355   642 352.807  818080.289   642 1274.268\n",
       "A       20219.429   643 31.445 22189.429   643 34.509      7258   643 11.288 380377.590   643 591.567 2477738.995   643 3853.404"
      ]
     },
     "execution_count": 161,
     "metadata": {},
     "output_type": "execute_result"
    }
   ],
   "source": [
    "cltv_6_month_final[[col for col in cltv_6_month_final.columns if 'Cust' not in col]].groupby('segment').agg({'count', 'mean', 'sum'})"
   ]
  },
  {
   "cell_type": "markdown",
   "id": "d2c5bffe-74bb-4db7-b6b3-bac43d6fa333",
   "metadata": {},
   "source": [
    "---\n",
    "\n",
    "- **Step 2:** *Make brief 6-month action suggestions to the management for 2 groups you choose among 4 groups.*\n",
    "\n",
    "  - (**Adım 2:** *4 grup içerisinden seçeceğiniz 2 grup için yönetime kısa kısa 6 aylık aksiyon önerilerinde bulununuz.*)\n",
    " \n",
    "---"
   ]
  },
  {
   "cell_type": "markdown",
   "id": "40f520a8-4b5d-4f0a-b47a-6bbb0408998d",
   "metadata": {},
   "source": [
    "---\n",
    "\n",
    "- **Segment D:**\n",
    "  - Recency average value is 20 weeks and T average value is 40 weeks, meaning customers have shopped for a short time and have not been active for 20 weeks. You can offer special promotions or discounts to customers in this segment to make them interesting again.\n",
    "  - Since the shopping frequency and amount are low, we can encourage customers with loyalty programs or reward systems.\n",
    "  - We can measure customer satisfaction and improve your service by sending surveys or feedback forms to customers.\n",
    "---\n",
    "\n",
    "- **Segment A:**\n",
    "  - Recency average value is 31 and T average value is 34 weeks, meaning customers have been shopping for a long time and have only been inactive for 3 weeks.\n",
    "  - Shopping frequencies and shopping amounts are very high.\n",
    "  - We can increase customer satisfaction and strengthen long-term loyalty with tailored services, product recommendations and personalized experiences.\n",
    " \n",
    "---"
   ]
  },
  {
   "cell_type": "markdown",
   "id": "3af86d9f-f36d-4484-a247-5c0ef102fedd",
   "metadata": {},
   "source": [
    "---\n",
    "\n",
    "- **Segment D:**\n",
    "\n",
    "  - Recency ortalama değeri 20 hafta ve T ortalama değeri 40 hafta yani müşteriler kısa süreli alışveriş yapmış ve 20 haftadır aktif değiller. Bu segmentteki müşterilere tekrar ilgi çekici hale getirmek adına özel promosyonlar veya indirimler sunabilirsiniz.\n",
    "  - Alışveriş sıklığı ve tutarı düşük olduğu için, sadakat programları veya ödüllendirme sistemleriyle müşterileri teşvik edebiliriz.\n",
    "  - Müşterilere anketler veya geri bildirim formları göndererek memnuniyetlerini ölçebilir ve hizmetinizi geliştirebiliriz.\n",
    " \n",
    "---\n",
    "\n",
    "- **Segment A:**\n",
    "\n",
    "  - Recency ortalama değeri 31 ve T ortalama değeri 34 hafta yani müşteriler uzun süreli alışveriş yapmış ve sadece 3 haftadır aktif değiller.\n",
    "  - Alışveriş sıklıkları ve alışveriş tutarları çok yüksek.\n",
    "  - Özel hizmetler, ürün önerileri ve kişiselleştirilmiş deneyimlerle müşteri memnuniyetini artırabilir ve uzun vadeli sadakati güçlendirebiliriz.\n",
    " \n",
    "---"
   ]
  },
  {
   "cell_type": "markdown",
   "id": "ef3cfdd4-2c3d-4281-9e4d-897067094c7f",
   "metadata": {},
   "source": [
    "## Preparation of the Entire Process with a Single Function (Tüm Sürecin Tek Fonksiyonla Hazırlanması)"
   ]
  },
  {
   "cell_type": "code",
   "execution_count": 214,
   "id": "84ce44fc-c26c-43dd-9a82-d718e343aa2c",
   "metadata": {},
   "outputs": [
    {
     "data": {
      "text/plain": [
       "array(['UK', 'France', 'Australia', 'Netherlands', 'Germany', 'Norway',\n",
       "       'EIRE', 'Switzerland', 'Spain', 'Poland', 'Portugal', 'Italy',\n",
       "       'Belgium', 'Lithuania', 'Japan', 'Iceland', 'Channel Islands',\n",
       "       'Denmark', 'Cyprus', 'Sweden', 'Finland', 'Austria', 'Greece',\n",
       "       'Singapore', 'Lebanon', 'United Arab Emirates', 'Israel',\n",
       "       'Saudi Arabia', 'Czech Republic', 'Canada', 'Unspecified',\n",
       "       'Brazil', 'USA', 'European Community', 'Bahrain', 'Malta', 'RSA'],\n",
       "      dtype=object)"
      ]
     },
     "execution_count": 214,
     "metadata": {},
     "output_type": "execute_result"
    }
   ],
   "source": [
    "df['Country'].unique()"
   ]
  },
  {
   "cell_type": "code",
   "execution_count": 215,
   "id": "0f9949ed-2b78-4370-ac78-2b06af537dd2",
   "metadata": {},
   "outputs": [],
   "source": [
    "def create_cltv_p(dataframe, month=6,  country_choice=False, country = 'United Kingdom',\n",
    "                  excel_cltv_p=False, csv_cltv_p=False,\n",
    "                  excel_A=False, csv_A=False, excel_B=False, csv_B=False, \n",
    "                  excel_C=False, csv_C=False, excel_D=False, csv_D=False):\n",
    "\n",
    "\n",
    "# -----------------------------------------------------------------------------------------------------------------------------------------------------#\n",
    "### FUNCTION DESCRIPTION ###\n",
    "# dataframe = data set\n",
    "# month = \"CLTV\" is the desired duration of the forecast (in months) (The default month is 6)\n",
    "# If you want to calculate CLTV for customers in a specific country, \n",
    "# you need to set 'country_choice=True' and specify the desired country name in the 'country' parameter. (The default country name is 'United Kingdom').\n",
    "# If you want to perform calculations for all countries, do not change the 'country_choice' and 'country' parameters.\n",
    "# Set the segment and file type you want to save to \"True\". If you don't want it, don't change it.\n",
    "# -----------------------------------------------------------------------------------------------------------------------------------------------------#\n",
    "\n",
    "\n",
    "\n",
    "    # Country Choice\n",
    "    if country_choice:\n",
    "        dataframe = dataframe[dataframe['Country'].str.contains(country, na=False)]\n",
    "    \n",
    "    # 1. Data Pre-processing    \n",
    "    dataframe.dropna(inplace=True)\n",
    "    dataframe = dataframe[~dataframe['Invoice'].str.contains('C', na=False)]\n",
    "    dataframe = dataframe[dataframe['Quantity'] > 0]\n",
    "    dataframe = dataframe[dataframe['Price'] > 0]\n",
    "             \n",
    "    for col in ['Quantity', 'Price']:\n",
    "        replace_with_thresholds(df, col, q1=0.01, q3=0.99)\n",
    "\n",
    "    dataframe['TotalPrice'] = dataframe['Quantity'] * dataframe['Price']\n",
    "    today_date = dt.datetime(2011, 12, 11)\n",
    "\n",
    "    cltv_df = dataframe.groupby('Customer ID').agg(\n",
    "        {'InvoiceDate': [lambda x: (x.max() - x.min()).days,\n",
    "                         lambda x: (today_date - x.min()).days],\n",
    "         'Invoice': lambda x: x.nunique(),\n",
    "         'TotalPrice': lambda x: x.sum()})\n",
    "\n",
    "    cltv_df.columns = cltv_df.columns.droplevel(0)\n",
    "    cltv_df.columns = ['recency', 'T', 'frequency', 'monetary']\n",
    "    cltv_df['monetary'] = cltv_df['monetary'] / cltv_df['frequency']\n",
    "    cltv_df = cltv_df[(cltv_df['frequency'] > 1)]\n",
    "    cltv_df['recency'] = cltv_df['recency'] / 7\n",
    "    cltv_df['T'] = cltv_df['T'] / 7\n",
    "\n",
    "    # 2. Establishing the BG-NBD Model\n",
    "    bgf = BetaGeoFitter(penalizer_coef=0.001)\n",
    "    bgf.fit(cltv_df['frequency'],\n",
    "            cltv_df['recency'],\n",
    "            cltv_df['T'])\n",
    "\n",
    "    # 3. Establishing the Gamma-Gamma Model\n",
    "    ggf = GammaGammaFitter(penalizer_coef=0.01)\n",
    "    ggf.fit(cltv_df['frequency'],\n",
    "            cltv_df['monetary'])\n",
    "\n",
    "    # 4. Calculation of CLTV with BG-NBD and GG model.\n",
    "\n",
    "    cltv = ggf.customer_lifetime_value(bgf,\n",
    "                                       cltv_df['frequency'],\n",
    "                                       cltv_df['recency'],\n",
    "                                       cltv_df['T'],\n",
    "                                       cltv_df['monetary'],\n",
    "                                       time = month,\n",
    "                                       freq = 'W',\n",
    "                                       discount_rate = 0.01)\n",
    "\n",
    "\n",
    "    \n",
    "    cltv = cltv.reset_index()\n",
    "    cltv_final= cltv_df.merge(cltv, on='Customer ID', how = 'left')\n",
    "    cltv_final['segment'] = pd.qcut(cltv_final['clv'], 4, labels = ['D', 'C', 'B', 'A'])\n",
    "\n",
    "    # Save CLTV Prediction\n",
    "    if excel_cltv_p:\n",
    "        cltv_final.to_excel('CLTV_Prediction.xlsx', index=False)\n",
    "\n",
    "    if csv_cltv_p:\n",
    "        cltv_final.to_csv('CLTV_Prediction.csv', index=False)\n",
    "    \n",
    "    # Save Segment A\n",
    "    cltv_p_A_id = cltv_final[cltv_final['segment'].str.contains('A')]['Customer ID']\n",
    "    \n",
    "    if excel_A:\n",
    "        cltv_p_A_id.to_excel('Segment_A_id.xlsx', index=False)\n",
    "        \n",
    "    if csv_A:\n",
    "        cltv_p_A_id.to_csv('Segment_A_id.csv', index=False)\n",
    "\n",
    "    # Save Segment B\n",
    "    cltv_p_B_id = cltv_final[cltv_final['segment'].str.contains('B')]['Customer ID']\n",
    "    \n",
    "    if excel_B:\n",
    "        cltv_p_B_id.to_excel('Segment_B_id.xlsx', index=False)\n",
    "        \n",
    "    if csv_B:\n",
    "        cltv_p_B_id.to_csv('Segment_B_id.csv', index=False)\n",
    "\n",
    "    # Save Segment C\n",
    "    cltv_p_C_id = cltv_final[cltv_final['segment'].str.contains('C')]['Customer ID']\n",
    "    \n",
    "    if excel_C:\n",
    "        cltv_p_C_id.to_excel('Segment_C_id.xlsx', index=False)\n",
    "        \n",
    "    if csv_C:\n",
    "        cltv_p_C_id.to_csv('Segment_C_id.csv', index=False)\n",
    "\n",
    "    # Save Segment D\n",
    "    cltv_p_D_id = cltv_final[cltv_final['segment'].str.contains('D')]['Customer ID']\n",
    "    \n",
    "    if excel_D:\n",
    "        cltv_p_D_id.to_excel('Segment_D_id.xlsx', index=False)\n",
    "        \n",
    "    if csv_D:\n",
    "        cltv_p_D_id.to_csv('Segment_D_id.csv', index=False)\n",
    "        \n",
    "        \n",
    "    return cltv_final"
   ]
  },
  {
   "cell_type": "code",
   "execution_count": 216,
   "id": "9bea1c08-b8ff-4a2b-bd49-158bd9a2fb92",
   "metadata": {},
   "outputs": [],
   "source": [
    "df_test = df_.copy()"
   ]
  },
  {
   "cell_type": "code",
   "execution_count": 217,
   "id": "a98abcf9-4574-4e8c-bc10-e21a2f26a348",
   "metadata": {},
   "outputs": [],
   "source": [
    "cltv_test = create_cltv_p(df_test, month=6,  country_choice=True, country = 'United Kingdom', \n",
    "                          excel_cltv_p=True, csv_cltv_p=True,\n",
    "                          excel_A=True, csv_A=True, excel_B=True, csv_B=True, \n",
    "                          excel_C=True, csv_C=True, excel_D=True, csv_D=True)"
   ]
  },
  {
   "cell_type": "code",
   "execution_count": 218,
   "id": "ac43c4c2-35dd-476c-8f22-4eb13e0fb911",
   "metadata": {},
   "outputs": [
    {
     "data": {
      "text/plain": [
       "(2570, 7)"
      ]
     },
     "execution_count": 218,
     "metadata": {},
     "output_type": "execute_result"
    }
   ],
   "source": [
    "cltv_test.shape"
   ]
  },
  {
   "cell_type": "code",
   "execution_count": 219,
   "id": "f46016e4-3e78-4ec3-ad47-0b253a3d906d",
   "metadata": {},
   "outputs": [
    {
     "data": {
      "text/html": [
       "<div>\n",
       "<style scoped>\n",
       "    .dataframe tbody tr th:only-of-type {\n",
       "        vertical-align: middle;\n",
       "    }\n",
       "\n",
       "    .dataframe tbody tr th {\n",
       "        vertical-align: top;\n",
       "    }\n",
       "\n",
       "    .dataframe thead th {\n",
       "        text-align: right;\n",
       "    }\n",
       "</style>\n",
       "<table border=\"1\" class=\"dataframe\">\n",
       "  <thead>\n",
       "    <tr style=\"text-align: right;\">\n",
       "      <th></th>\n",
       "      <th>Customer ID</th>\n",
       "      <th>recency</th>\n",
       "      <th>T</th>\n",
       "      <th>frequency</th>\n",
       "      <th>monetary</th>\n",
       "      <th>clv</th>\n",
       "      <th>segment</th>\n",
       "    </tr>\n",
       "  </thead>\n",
       "  <tbody>\n",
       "    <tr>\n",
       "      <th>0</th>\n",
       "      <td>12747.000</td>\n",
       "      <td>52.286</td>\n",
       "      <td>52.857</td>\n",
       "      <td>11</td>\n",
       "      <td>381.455</td>\n",
       "      <td>1937.224</td>\n",
       "      <td>A</td>\n",
       "    </tr>\n",
       "    <tr>\n",
       "      <th>1</th>\n",
       "      <td>12748.000</td>\n",
       "      <td>53.143</td>\n",
       "      <td>53.429</td>\n",
       "      <td>209</td>\n",
       "      <td>161.338</td>\n",
       "      <td>12908.063</td>\n",
       "      <td>A</td>\n",
       "    </tr>\n",
       "    <tr>\n",
       "      <th>2</th>\n",
       "      <td>12749.000</td>\n",
       "      <td>29.857</td>\n",
       "      <td>30.571</td>\n",
       "      <td>5</td>\n",
       "      <td>818.176</td>\n",
       "      <td>3462.380</td>\n",
       "      <td>A</td>\n",
       "    </tr>\n",
       "    <tr>\n",
       "      <th>3</th>\n",
       "      <td>12820.000</td>\n",
       "      <td>46.143</td>\n",
       "      <td>46.714</td>\n",
       "      <td>4</td>\n",
       "      <td>235.585</td>\n",
       "      <td>632.130</td>\n",
       "      <td>C</td>\n",
       "    </tr>\n",
       "    <tr>\n",
       "      <th>4</th>\n",
       "      <td>12822.000</td>\n",
       "      <td>2.286</td>\n",
       "      <td>12.571</td>\n",
       "      <td>2</td>\n",
       "      <td>474.440</td>\n",
       "      <td>1613.196</td>\n",
       "      <td>B</td>\n",
       "    </tr>\n",
       "  </tbody>\n",
       "</table>\n",
       "</div>"
      ],
      "text/plain": [
       "   Customer ID  recency      T  frequency  monetary       clv segment\n",
       "0    12747.000   52.286 52.857         11   381.455  1937.224       A\n",
       "1    12748.000   53.143 53.429        209   161.338 12908.063       A\n",
       "2    12749.000   29.857 30.571          5   818.176  3462.380       A\n",
       "3    12820.000   46.143 46.714          4   235.585   632.130       C\n",
       "4    12822.000    2.286 12.571          2   474.440  1613.196       B"
      ]
     },
     "execution_count": 219,
     "metadata": {},
     "output_type": "execute_result"
    }
   ],
   "source": [
    "cltv_test.head()"
   ]
  },
  {
   "cell_type": "code",
   "execution_count": 220,
   "id": "b754941a-c9a1-40d9-ab8a-fea7667c31c8",
   "metadata": {},
   "outputs": [],
   "source": [
    "testo = create_cltv_p(df_test, month=6)"
   ]
  },
  {
   "cell_type": "code",
   "execution_count": 221,
   "id": "cee6a422-324e-4b3a-809d-2a2afebae2f3",
   "metadata": {},
   "outputs": [
    {
     "data": {
      "text/plain": [
       "(2845, 7)"
      ]
     },
     "execution_count": 221,
     "metadata": {},
     "output_type": "execute_result"
    }
   ],
   "source": [
    "testo.shape"
   ]
  },
  {
   "cell_type": "code",
   "execution_count": null,
   "id": "43860d1c-1dcc-458f-8487-d396cbc1fb06",
   "metadata": {},
   "outputs": [],
   "source": []
  }
 ],
 "metadata": {
  "kernelspec": {
   "display_name": "Python 3 (ipykernel)",
   "language": "python",
   "name": "python3"
  },
  "language_info": {
   "codemirror_mode": {
    "name": "ipython",
    "version": 3
   },
   "file_extension": ".py",
   "mimetype": "text/x-python",
   "name": "python",
   "nbconvert_exporter": "python",
   "pygments_lexer": "ipython3",
   "version": "3.11.5"
  }
 },
 "nbformat": 4,
 "nbformat_minor": 5
}
